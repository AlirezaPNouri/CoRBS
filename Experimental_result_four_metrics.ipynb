{
  "nbformat": 4,
  "nbformat_minor": 0,
  "metadata": {
    "colab": {
      "provenance": [],
      "collapsed_sections": [],
      "machine_shape": "hm",
      "mount_file_id": "10ITqkLhjdoImwJrSpYGzcMq49NbHVfPx",
      "authorship_tag": "ABX9TyPgzAzIYkPWKEGLlOjt2yqi",
      "include_colab_link": true
    },
    "kernelspec": {
      "name": "python3",
      "display_name": "Python 3"
    },
    "language_info": {
      "name": "python"
    },
    "accelerator": "GPU",
    "gpuClass": "premium"
  },
  "cells": [
    {
      "cell_type": "markdown",
      "metadata": {
        "id": "view-in-github",
        "colab_type": "text"
      },
      "source": [
        "<a href=\"https://colab.research.google.com/github/AlirezaPNouri/Papers/blob/main/Experimental_result_four_metrics.ipynb\" target=\"_parent\"><img src=\"https://colab.research.google.com/assets/colab-badge.svg\" alt=\"Open In Colab\"/></a>"
      ]
    },
    {
      "cell_type": "markdown",
      "source": [
        "Final_experimental results for the paper, including four different metrics such as Dispersion, TempoCover, StoryStretch, and Story Evaluaion Coefficient(SEC)"
      ],
      "metadata": {
        "id": "PpM9Ran5eyAU"
      }
    },
    {
      "cell_type": "code",
      "execution_count": 41,
      "metadata": {
        "id": "i11r9BY2exVY"
      },
      "outputs": [],
      "source": [
        "# needed packages\n",
        "import requests\n",
        "import numpy as np\n",
        "import pandas as pd\n",
        "import string\n",
        "import pickle\n",
        "import os\n",
        "import re\n",
        "from sklearn.feature_extraction.text import CountVectorizer\n",
        "from nltk.tokenize import word_tokenize\n",
        "from nltk.stem import PorterStemmer\n",
        "import matplotlib.pyplot as plt\n",
        "from tqdm import tqdm\n",
        "from numpy import median, array, exp\n",
        "from sklearn.cluster import KMeans\n",
        "import copy\n",
        "from sklearn.metrics.pairwise import cosine_similarity\n",
        "import tensorflow as tf\n",
        "import nltk\n",
        "from nltk.stem import PorterStemmer\n",
        "from nltk.tokenize import sent_tokenize, word_tokenize\n",
        "from gensim.models.doc2vec import Doc2Vec, TaggedDocument \n",
        "from nltk.tokenize import word_tokenize"
      ]
    },
    {
      "cell_type": "code",
      "source": [
        "#constant variables"
      ],
      "metadata": {
        "id": "7rru0hYifeXw"
      },
      "execution_count": 2,
      "outputs": []
    },
    {
      "cell_type": "code",
      "source": [
        "#load objects\n",
        "\n",
        "final_results_proposed = pickle.load(open('drive/MyDrive/temp/data_r/final_results_proposed.p', 'rb'))\n",
        "final_results_bert = pickle.load(open('drive/MyDrive/temp/data_r/final_results_bert.p', 'rb'))\n",
        "final_results_ji = pickle.load(open('drive/MyDrive/temp/data_r/final_results_ji.p', 'rb'))\n",
        "final_results_doc2vec = pickle.load(open('drive/MyDrive/temp/data_r/final_results_doc2vec.p', 'rb'))\n",
        "total_doc_embedding_cls = pickle.load(open('drive/MyDrive/temp/data_r/Proposed/total_docs_clusters_wo_stopwords.p', 'rb'))\n",
        "list_of_timestamps = pickle.load(open('drive/MyDrive/temp/data_r/Proposed/list_of_timestamps.p', 'rb'))"
      ],
      "metadata": {
        "id": "7xF2bxQTfbiO"
      },
      "execution_count": 3,
      "outputs": []
    },
    {
      "cell_type": "code",
      "source": [
        "# print(final_results_proposed.keys())\n",
        "# print(len(final_results_proposed[0.95]))\n",
        "# print(final_results_proposed[0.95])\n",
        "# print(len(final_results_doc2vec[0.95]))\n",
        "# print(final_results_doc2vec[0.95])"
      ],
      "metadata": {
        "id": "zOGgv-5QzXdv"
      },
      "execution_count": 93,
      "outputs": []
    },
    {
      "cell_type": "markdown",
      "source": [
        "### StortStretch  = 1 - sqrt(sum(l_i - L_bar))/ (|S| L_bar)    "
      ],
      "metadata": {
        "id": "pJMxJaqH3nj6"
      }
    },
    {
      "cell_type": "code",
      "source": [
        "\n",
        "def story_stretch(story_list, max_omega):\n",
        "  stories = story_list[max_omega]\n",
        "  stories_length = list()\n",
        "  for story in stories:\n",
        "    stories_length.append(len(story))\n",
        "  ave = np.average(stories_length)\n",
        "  return 1- np.sqrt(np.average([pow(l_i - ave,2) for l_i in stories_length])) / len(stories)"
      ],
      "metadata": {
        "id": "MfkxremX3nK6"
      },
      "execution_count": 5,
      "outputs": []
    },
    {
      "cell_type": "code",
      "source": [
        "thre = 0.85\n",
        "print('StoryStretch Metric')\n",
        "print(story_stretch(final_results_proposed, thre))\n",
        "print(story_stretch(final_results_bert, thre))\n",
        "print(story_stretch(final_results_ji, thre))\n",
        "print(story_stretch(final_results_doc2vec, thre))"
      ],
      "metadata": {
        "colab": {
          "base_uri": "https://localhost:8080/"
        },
        "id": "VYWoKJuf6Aey",
        "outputId": "fff8e7e7-c7f7-477e-c0df-f947eaecac15"
      },
      "execution_count": 94,
      "outputs": [
        {
          "output_type": "stream",
          "name": "stdout",
          "text": [
            "StoryStretch Metric\n",
            "0.9716492038600091\n",
            "0.8767638341972683\n",
            "0.8338568028771833\n",
            "0.9582311354000781\n"
          ]
        }
      ]
    },
    {
      "cell_type": "code",
      "source": [
        "omega_list = final_results_proposed.keys()\n",
        "story_stretch_proposed = [story_stretch(final_results_proposed, i) for i in omega_list]\n",
        "story_stretch_bert = [story_stretch(final_results_bert, i) for i in omega_list]\n",
        "story_stretch_ji = [story_stretch(final_results_ji, i) for i in omega_list]\n",
        "story_stretch_doc2vec = [story_stretch(final_results_doc2vec, i) for i in omega_list]"
      ],
      "metadata": {
        "id": "C9MPonQS8VfP"
      },
      "execution_count": 43,
      "outputs": []
    },
    {
      "cell_type": "code",
      "source": [
        "\n",
        "\n",
        "x = list(omega_list)[0:-2]\n",
        "plt.figure(figsize=(8,5))\n",
        "\n",
        "y = story_stretch_proposed[0:-2]\n",
        "plt.plot(x, y, label = \"proposed method \", linestyle=\"-.\" )\n",
        "\n",
        "y = story_stretch_bert[0:-2]\n",
        "plt.plot(x, y, label = \"BERT method \", linestyle=\"-.\" )\n",
        "\n",
        "y = story_stretch_ji[0:-2]\n",
        "plt.plot(x, y, label = \"Jaccard Index method \", linestyle=\"-.\" )\n",
        "\n",
        "y = story_stretch_doc2vec[0:-2]\n",
        "plt.plot(x, y, label = \"doc2vec method \", linestyle=\"-.\" )\n",
        "\n",
        "plt.xlabel('Maximum similarity')\n",
        "plt.ylabel('StoryStretch')\n",
        "\n",
        "plt.legend()\n",
        "plt.show()"
      ],
      "metadata": {
        "colab": {
          "base_uri": "https://localhost:8080/",
          "height": 334
        },
        "id": "UE9-x5Qt9Mgx",
        "outputId": "aad927fa-1dde-4cc1-b4f4-285d16097b5a"
      },
      "execution_count": 8,
      "outputs": [
        {
          "output_type": "display_data",
          "data": {
            "text/plain": [
              "<Figure size 576x360 with 1 Axes>"
            ],
            "image/png": "[encoded data removed]"
          },
          "metadata": {
            "needs_background": "light"
          }
        }
      ]
    },
    {
      "cell_type": "markdown",
      "source": [
        "### Temporal Coverage *Metric*"
      ],
      "metadata": {
        "id": "kLryYzJ7BvEs"
      }
    },
    {
      "cell_type": "code",
      "source": [
        "# print(len(list_of_timestamps))\n",
        "# print(list_of_timestamps[0])"
      ],
      "metadata": {
        "id": "qEdG91sUB815"
      },
      "execution_count": 95,
      "outputs": []
    },
    {
      "cell_type": "code",
      "source": [
        "def tempo_cover(story_list, timestamp_list, omega):\n",
        "  stories_list = story_list[omega]\n",
        "  res = list()\n",
        "  for story in stories_list:\n",
        "    ts_counter = set()\n",
        "    for t_s in range(len(timestamp_list)):\n",
        "      for doc in story:\n",
        "        if doc in timestamp_list[t_s]:\n",
        "          ts_counter.add(t_s)\n",
        "    res.append(len(ts_counter)/len(story))\n",
        "  return np.average(res)\n",
        "\n",
        "        \n",
        "\n"
      ],
      "metadata": {
        "id": "WSp2i0hiDMnQ"
      },
      "execution_count": 10,
      "outputs": []
    },
    {
      "cell_type": "code",
      "source": [
        "thre = 0.90\n",
        "print('TempoCover Metric')\n",
        "print(tempo_cover(final_results_proposed, list_of_timestamps, thre))\n",
        "print(tempo_cover(final_results_bert, list_of_timestamps, thre))\n",
        "print(tempo_cover(final_results_ji, list_of_timestamps, thre))\n",
        "print(tempo_cover(final_results_doc2vec, list_of_timestamps, thre))\n"
      ],
      "metadata": {
        "colab": {
          "base_uri": "https://localhost:8080/"
        },
        "id": "xRNPRB9EGQi9",
        "outputId": "e7af39ab-7ef0-45b3-8854-fa40be883074"
      },
      "execution_count": 97,
      "outputs": [
        {
          "output_type": "stream",
          "name": "stdout",
          "text": [
            "TempoCover Metric\n",
            "0.7617602791773651\n",
            "0.2820673614582169\n",
            "0.3072190351712336\n",
            "0.3751152072636012\n"
          ]
        }
      ]
    },
    {
      "cell_type": "code",
      "source": [
        "omega_list = final_results_proposed.keys()\n",
        "tempo_cover_proposed = [tempo_cover(final_results_proposed, list_of_timestamps, i) for i in omega_list]\n",
        "tempo_cover_bert = [tempo_cover(final_results_bert, list_of_timestamps, i) for i in omega_list]\n",
        "tempo_cover_ji = [tempo_cover(final_results_ji, list_of_timestamps, i) for i in omega_list]\n",
        "tempo_cover_doc2vec = [tempo_cover(final_results_doc2vec, list_of_timestamps, i) for i in omega_list]"
      ],
      "metadata": {
        "id": "XyBtmRhUHLO1"
      },
      "execution_count": 12,
      "outputs": []
    },
    {
      "cell_type": "code",
      "source": [
        "x = list(omega_list)[0:-2]\n",
        "plt.figure(figsize=(8,5))\n",
        "\n",
        "y = tempo_cover_proposed[0:-2]\n",
        "plt.plot(x, y, label = \"proposed method \", linestyle=\"-.\" )\n",
        "\n",
        "y = tempo_cover_bert[0:-2]\n",
        "plt.plot(x, y, label = \"BERT method \", linestyle=\"-.\" )\n",
        "\n",
        "y = tempo_cover_ji[0:-2]\n",
        "plt.plot(x, y, label = \"Jaccard Index method \", linestyle=\"-.\" )\n",
        "\n",
        "y = tempo_cover_doc2vec[0:-2]\n",
        "plt.plot(x, y, label = \"doc2vec method \", linestyle=\"-.\" )\n",
        "\n",
        "plt.xlabel('Maximum similarity')\n",
        "plt.ylabel('Temporal coverage coefficient')\n",
        "\n",
        "plt.legend()\n",
        "plt.show()"
      ],
      "metadata": {
        "colab": {
          "base_uri": "https://localhost:8080/",
          "height": 334
        },
        "id": "kWUZf2xgHGa3",
        "outputId": "b0c40bb1-3ec9-46c0-e3f5-3dce4ab0227c"
      },
      "execution_count": 13,
      "outputs": [
        {
          "output_type": "display_data",
          "data": {
            "text/plain": [
              "<Figure size 576x360 with 1 Axes>"
            ],
            "image/png": "[encoded data removed]"
          },
          "metadata": {
            "needs_background": "light"
          }
        }
      ]
    },
    {
      "cell_type": "markdown",
      "source": [
        "### Dispersion coefficient"
      ],
      "metadata": {
        "id": "tkBSvswkfW7l"
      }
    },
    {
      "cell_type": "code",
      "source": [
        "#generate embedding for evaluation metrics\n",
        "\n",
        "Embed_dict = pickle.load(open('drive/MyDrive/temp/data_r/Proposed/Embed_dict.p', 'rb'))\n",
        "\n",
        "total_doc_embedding = dict()\n",
        "for t_ in Embed_dict.keys():\n",
        "  for doc in Embed_dict[t_].keys():\n",
        "    total_doc_embedding[doc] = Embed_dict[t_][doc]\n",
        "\n",
        "\n",
        "total_doc_embedding_cls = dict()\n",
        "for doc in total_doc_embedding.keys():\n",
        "  total_doc_embedding_cls[doc] = total_doc_embedding[doc]['cls']\n",
        "\n",
        "\n",
        "full_story_NYT_proposed_embedding = dict()\n",
        "for omega in final_results_proposed.keys():\n",
        "  temp_story_list = list()\n",
        "  for story in final_results_proposed[omega]:\n",
        "    temp_list = list()\n",
        "    for doc in story:\n",
        "      temp_list.append(total_doc_embedding_cls[doc])\n",
        "    temp_story_list.append(temp_list)\n",
        "  full_story_NYT_proposed_embedding[omega] = temp_story_list\n",
        "\n",
        "\n",
        "full_story_NYT_bert_embedding = dict()\n",
        "for omega in final_results_bert.keys():\n",
        "  temp_story_list = list()\n",
        "  for story in final_results_bert[omega]:\n",
        "    temp_list = list()\n",
        "    for doc in story:\n",
        "      temp_list.append(total_doc_embedding_cls[doc])\n",
        "    temp_story_list.append(temp_list)\n",
        "  full_story_NYT_bert_embedding[omega] = temp_story_list\n",
        "\n",
        "\n",
        "full_story_NYT_ji_embedding = dict()\n",
        "for omega in final_results_ji.keys():\n",
        "  temp_story_list = list()\n",
        "  for story in final_results_ji[omega]:\n",
        "    temp_list = list()\n",
        "    for doc in story:\n",
        "      temp_list.append(total_doc_embedding_cls[doc])\n",
        "    temp_story_list.append(temp_list)\n",
        "  full_story_NYT_ji_embedding[omega] = temp_story_list\n",
        "\n",
        "\n",
        "full_story_NYT_doc2vec_embedding = dict()\n",
        "for omega in final_results_doc2vec.keys():\n",
        "  temp_story_list = list()\n",
        "  for story in final_results_doc2vec[omega]:\n",
        "    temp_list = list()\n",
        "    for doc in story:\n",
        "      temp_list.append(total_doc_embedding_cls[doc])\n",
        "    temp_story_list.append(temp_list)\n",
        "  full_story_NYT_doc2vec_embedding[omega] = temp_story_list"
      ],
      "metadata": {
        "id": "fun5a8d9hwbc"
      },
      "execution_count": 18,
      "outputs": []
    },
    {
      "cell_type": "code",
      "source": [
        "def disp(d_i, d_j, n, teta, i, j):\n",
        "  a = np.array(d_i)\n",
        "  b = np.array(d_j)\n",
        "  dist = cosine_similarity([a],[b])[0][0]\n",
        "  if dist < teta:\n",
        "    return 1/(n+i-j)\n",
        "  else:\n",
        "    return 0\n",
        "\n",
        "\n",
        "# def disp(d_i, d_j, n, teta, i, j):\n",
        "#   a = np.array(d_i)\n",
        "#   b = np.array(d_j)\n",
        "#   dist = np.sqrt(np.sum(np.square(a-b))) / len(d_i)\n",
        "#   if dist < teta:\n",
        "#     return 1/(n+i-j)\n",
        "#   else:\n",
        "#     return 0\n"
      ],
      "metadata": {
        "id": "_cmIE2RRfhtg"
      },
      "execution_count": 63,
      "outputs": []
    },
    {
      "cell_type": "code",
      "source": [
        "def final_disp(story_, teta):\n",
        "  res = list()\n",
        "  len_story = len(story_)\n",
        "  for i in range(len_story-3):\n",
        "    for j in range(i+2, len_story-1):\n",
        "      res.append(disp(story_[i], story_[j], len_story, teta, i, j))\n",
        "  \n",
        "  return 1.0 - (sum(res)/(len_story-2 + 0.01))"
      ],
      "metadata": {
        "id": "1OR7gp9qfk8y"
      },
      "execution_count": 31,
      "outputs": []
    },
    {
      "cell_type": "code",
      "source": [
        "# sample = full_story_NYT_proposed_embedding[0.95][0]\n",
        "# res = list()\n",
        "# len_story = len(sample)\n",
        "# for i in range(len_story-3):\n",
        "#     for j in range(i+2, len_story-1):\n",
        "#       res.append(disp(sample[i], sample[j], len_story, 0.025, i, j))\n",
        "# final_res =  1.0 - (sum(res)/(len_story-2 + 0.01))"
      ],
      "metadata": {
        "id": "YrIixOzssv5o"
      },
      "execution_count": 33,
      "outputs": []
    },
    {
      "cell_type": "code",
      "source": [
        "# disp_porposed = list()\n",
        "# disp_bert = list()\n",
        "# disp_ji = list()\n",
        "# disp_doc2vec = list()\n",
        "# # omega_list = [0.9]\n",
        "# for om in tqdm(omega_list): \n",
        "#   g_value = [final_disp(x, 0.025) for x in full_story_NYT_proposed_embedding[om]]\n",
        "#   disp_porposed.append(sum(g_value)/ len(g_value))\n",
        "#   f_value = [final_disp(x, 0.025) for x in full_story_NYT_bert_embedding[om]]\n",
        "#   disp_bert.append(sum(f_value)/ len(f_value))\n",
        "#   z_value = [final_disp(x, 0.025) for x in full_story_NYT_ji_embedding[om]]\n",
        "#   disp_ji.append(sum(z_value)/  len(z_value))\n",
        "#   a_value = [final_disp(x, 0.025) for x in full_story_NYT_doc2vec_embedding[om]]\n",
        "#   disp_doc2vec.append(sum(a_value)/len(a_value))\n",
        "\n",
        "\n",
        "\n",
        "disp_porposed = list()\n",
        "disp_bert = list()\n",
        "disp_ji = list()\n",
        "disp_doc2vec = list()\n",
        "teta_list = [0.65, 0.7, 0.75, 0.8, 0.85, 0.9]\n",
        "for te_ta in tqdm(teta_list): \n",
        "  g_value = [final_disp(x, te_ta) for x in full_story_NYT_proposed_embedding[0.85]]\n",
        "  disp_porposed.append(sum(g_value)/ len(g_value))\n",
        "  f_value = [final_disp(x, te_ta) for x in full_story_NYT_bert_embedding[0.85]]\n",
        "  disp_bert.append(sum(f_value)/ len(f_value))\n",
        "  z_value = [final_disp(x, te_ta) for x in full_story_NYT_ji_embedding[0.85]]\n",
        "  disp_ji.append(sum(z_value)/  len(z_value))\n",
        "  a_value = [final_disp(x, te_ta) for x in full_story_NYT_doc2vec_embedding[0.85]]\n",
        "  disp_doc2vec.append(sum(a_value)/len(a_value))"
      ],
      "metadata": {
        "colab": {
          "base_uri": "https://localhost:8080/"
        },
        "id": "DFuf3KhlhowZ",
        "outputId": "48545c6d-8a38-42d9-dc6f-7dfa45e721e5"
      },
      "execution_count": 67,
      "outputs": [
        {
          "output_type": "stream",
          "name": "stderr",
          "text": [
            "100%|██████████| 6/6 [15:20<00:00, 153.45s/it]\n"
          ]
        }
      ]
    },
    {
      "cell_type": "code",
      "source": [
        "i = -1\n",
        "print('Dispersion Coefficient metric')\n",
        "\n",
        "print(disp_porposed[3])\n",
        "print(disp_bert[3])\n",
        "print(disp_ji[3])\n",
        "print(disp_doc2vec[3])\n"
      ],
      "metadata": {
        "colab": {
          "base_uri": "https://localhost:8080/"
        },
        "id": "o6S9pKFSDd-I",
        "outputId": "341b3479-99ec-4bfc-dcbf-5d6c82bbdc6a"
      },
      "execution_count": 103,
      "outputs": [
        {
          "output_type": "stream",
          "name": "stdout",
          "text": [
            "Dispersion Coefficient metric\n",
            "0.9780213397607616\n",
            "0.9494829246890243\n",
            "0.8967454500361282\n",
            "0.7363513407286173\n"
          ]
        }
      ]
    },
    {
      "cell_type": "code",
      "source": [
        "\n",
        "y = disp_bert\n",
        "x = teta_list\n",
        "plt.plot(x, y, label = \"BERT method \", linestyle=\"-.\" )\n",
        "\n",
        "y = disp_doc2vec\n",
        "plt.plot(x, y, label = \"doc2vec method \", linestyle=\"-.\" )\n",
        "\n",
        "y = disp_ji\n",
        "plt.plot(x, y, label = \"Jaccard Index method \", linestyle=\"-.\" )\n",
        "\n",
        "y = disp_porposed\n",
        "plt.plot(x, y, label = \"proposed method \", linestyle=\"-.\" )\n",
        "plt.xlabel('different values of teta')\n",
        "plt.ylabel('Dispersion coefficient')\n",
        "plt.legend()\n",
        "plt.show()"
      ],
      "metadata": {
        "colab": {
          "base_uri": "https://localhost:8080/",
          "height": 279
        },
        "id": "SoBoH1r6i750",
        "outputId": "68c4f087-980b-4a98-81a2-34c1ee4a1590"
      },
      "execution_count": 92,
      "outputs": [
        {
          "output_type": "display_data",
          "data": {
            "text/plain": [
              "<Figure size 432x288 with 1 Axes>"
            ],
            "image/png": "[encoded data removed]"
          },
          "metadata": {
            "needs_background": "light"
          }
        }
      ]
    },
    {
      "cell_type": "markdown",
      "source": [
        "### Story Evolution Coefficient (SEC)"
      ],
      "metadata": {
        "id": "mx78DfNPxmf7"
      }
    },
    {
      "cell_type": "code",
      "source": [
        "def story_evaluation_avg (stories_embedding, t_max):\n",
        "  n_stories = len(stories_embedding)\n",
        "  res = list()\n",
        "  for story in stories_embedding:\n",
        "    temp_res = list()\n",
        "    for i in range(len(story)-1):\n",
        "      temp = cosine_similarity([story[i]], [story[i+1]])[0][0]\n",
        "      temp_res.append(  (10*t_max - 10*temp + 1)* np.exp( -10*(t_max - temp))   )\n",
        "    res.append(np.average(temp_res))\n",
        "  return np.average(res)\n",
        "\n",
        "\n",
        "def story_evaluation_vec (stories_embedding, t_max):\n",
        "  n_stories = len(stories_embedding)\n",
        "  res = list()\n",
        "  for story in stories_embedding:\n",
        "    temp_res = list()\n",
        "    for i in range(len(story)-1):\n",
        "      temp = cosine_similarity([story[i]], [story[i+1]])[0][0]\n",
        "      temp_res.append(  (10*t_max - 10*temp + 1)* np.exp( -10*(t_max - temp))   )\n",
        "    res.append(np.average(temp_res))\n",
        "  return res\n"
      ],
      "metadata": {
        "id": "O1LirSFNxqbI"
      },
      "execution_count": 74,
      "outputs": []
    },
    {
      "cell_type": "code",
      "source": [
        "print('Story Evolution Coefficient (SEC)')\n",
        "s_sa = full_story_NYT_proposed_embedding[0.9]\n",
        "print(story_evaluation_avg(s_sa, 0.9))\n",
        "s_sa = full_story_NYT_doc2vec_embedding[0.9]\n",
        "print(story_evaluation_avg(s_sa, 0.9))\n",
        "s_sa = full_story_NYT_ji_embedding[0.9]\n",
        "print(story_evaluation_avg(s_sa, 0.9))\n",
        "s_sa = full_story_NYT_bert_embedding[0.9]\n",
        "print(story_evaluation_avg(s_sa, 0.9))"
      ],
      "metadata": {
        "colab": {
          "base_uri": "https://localhost:8080/"
        },
        "id": "wyS-68SwzqI5",
        "outputId": "03a53ee5-7dd6-4238-9556-5ae6199ac054"
      },
      "execution_count": 105,
      "outputs": [
        {
          "output_type": "stream",
          "name": "stdout",
          "text": [
            "Story Evolution Coefficient (SEC)\n",
            "0.9809849320704602\n",
            "0.8606826378498613\n",
            "0.9415692651125961\n",
            "0.9262356019169947\n"
          ]
        }
      ]
    },
    {
      "cell_type": "code",
      "source": [
        "NYT_proposed = (story_evaluation_vec(full_story_NYT_proposed_embedding[0.9], 0.9))\n",
        "NYT_doc2vec = (story_evaluation_vec(full_story_NYT_doc2vec_embedding[0.9], 0.9))\n",
        "NYT_ji = (story_evaluation_vec(full_story_NYT_ji_embedding[0.9], 0.9))\n",
        "NYT_bert = (story_evaluation_vec(full_story_NYT_bert_embedding[0.9], 0.9))\n"
      ],
      "metadata": {
        "id": "2J3qbNOq_FYi"
      },
      "execution_count": 78,
      "outputs": []
    },
    {
      "cell_type": "code",
      "source": [
        "data = [NYT_proposed, NYT_ji, NYT_bert, NYT_doc2vec]\n",
        " \n",
        "fig = plt.figure(figsize =(6, 4))\n",
        " \n",
        "plt.boxplot(data,showfliers=False,labels=['Proposed_method','Jaccard_index','Bert','doc2vec'])\n",
        "plt.ylabel(\"Story Evolution Coefficient\")\n",
        "\n",
        "plt.show()"
      ],
      "metadata": {
        "colab": {
          "base_uri": "https://localhost:8080/",
          "height": 266
        },
        "id": "wS9bydjU_jX8",
        "outputId": "8be3cfe0-72a0-437a-b8dc-cc2d1d821786"
      },
      "execution_count": 106,
      "outputs": [
        {
          "output_type": "display_data",
          "data": {
            "text/plain": [
              "<Figure size 432x288 with 1 Axes>"
            ],
            "image/png": "[encoded data removed]"
          },
          "metadata": {
            "needs_background": "light"
          }
        }
      ]
    }
  ]
}
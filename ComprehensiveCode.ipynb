{
  "nbformat": 4,
  "nbformat_minor": 0,
  "metadata": {
    "colab": {
      "provenance": [],
      "collapsed_sections": [],
      "machine_shape": "hm",
      "mount_file_id": "1coyYYg8ICuqLUn3hvv9sDrkPGNJSInfd",
      "authorship_tag": "ABX9TyO24qVi+52Pk3yj0VjcdyQ7",
      "include_colab_link": true
    },
    "kernelspec": {
      "name": "python3",
      "display_name": "Python 3"
    },
    "language_info": {
      "name": "python"
    },
    "accelerator": "GPU",
    "gpuClass": "standard"
  },
  "cells": [
    {
      "cell_type": "markdown",
      "metadata": {
        "id": "view-in-github",
        "colab_type": "text"
      },
      "source": [
        "<a href=\"https://colab.research.google.com/github/AlirezaPNouri/Papers/blob/main/ComprehensiveCode.ipynb\" target=\"_parent\"><img src=\"https://colab.research.google.com/assets/colab-badge.svg\" alt=\"Open In Colab\"/></a>"
      ]
    },
    {
      "cell_type": "markdown",
      "source": [
        "In this comprehensive code, all the steps of CoRBS are included. 11/12/2022 "
      ],
      "metadata": {
        "id": "1TF5PCt8CXT7"
      }
    },
    {
      "cell_type": "code",
      "source": [
        "#install needed packages\n",
        "!pip install transformers"
      ],
      "metadata": {
        "colab": {
          "base_uri": "https://localhost:8080/"
        },
        "id": "4anNe2dbC0Lv",
        "outputId": "abc5dcac-bdd1-4680-dfd4-0625c74c1091"
      },
      "execution_count": 1,
      "outputs": [
        {
          "output_type": "stream",
          "name": "stdout",
          "text": [
            "Looking in indexes: https://pypi.org/simple, https://us-python.pkg.dev/colab-wheels/public/simple/\n",
            "Collecting transformers\n",
            "  Downloading transformers-4.24.0-py3-none-any.whl (5.5 MB)\n",
            "\u001b[K     |████████████████████████████████| 5.5 MB 34.6 MB/s \n",
            "\u001b[?25hCollecting huggingface-hub<1.0,>=0.10.0\n",
            "  Downloading huggingface_hub-0.10.1-py3-none-any.whl (163 kB)\n",
            "\u001b[K     |████████████████████████████████| 163 kB 60.7 MB/s \n",
            "\u001b[?25hRequirement already satisfied: filelock in /usr/local/lib/python3.7/dist-packages (from transformers) (3.8.0)\n",
            "Requirement already satisfied: requests in /usr/local/lib/python3.7/dist-packages (from transformers) (2.23.0)\n",
            "Requirement already satisfied: importlib-metadata in /usr/local/lib/python3.7/dist-packages (from transformers) (4.13.0)\n",
            "Requirement already satisfied: pyyaml>=5.1 in /usr/local/lib/python3.7/dist-packages (from transformers) (6.0)\n",
            "Requirement already satisfied: tqdm>=4.27 in /usr/local/lib/python3.7/dist-packages (from transformers) (4.64.1)\n",
            "Requirement already satisfied: regex!=2019.12.17 in /usr/local/lib/python3.7/dist-packages (from transformers) (2022.6.2)\n",
            "Collecting tokenizers!=0.11.3,<0.14,>=0.11.1\n",
            "  Downloading tokenizers-0.13.2-cp37-cp37m-manylinux_2_17_x86_64.manylinux2014_x86_64.whl (7.6 MB)\n",
            "\u001b[K     |████████████████████████████████| 7.6 MB 51.2 MB/s \n",
            "\u001b[?25hRequirement already satisfied: packaging>=20.0 in /usr/local/lib/python3.7/dist-packages (from transformers) (21.3)\n",
            "Requirement already satisfied: numpy>=1.17 in /usr/local/lib/python3.7/dist-packages (from transformers) (1.21.6)\n",
            "Requirement already satisfied: typing-extensions>=3.7.4.3 in /usr/local/lib/python3.7/dist-packages (from huggingface-hub<1.0,>=0.10.0->transformers) (4.1.1)\n",
            "Requirement already satisfied: pyparsing!=3.0.5,>=2.0.2 in /usr/local/lib/python3.7/dist-packages (from packaging>=20.0->transformers) (3.0.9)\n",
            "Requirement already satisfied: zipp>=0.5 in /usr/local/lib/python3.7/dist-packages (from importlib-metadata->transformers) (3.10.0)\n",
            "Requirement already satisfied: urllib3!=1.25.0,!=1.25.1,<1.26,>=1.21.1 in /usr/local/lib/python3.7/dist-packages (from requests->transformers) (1.24.3)\n",
            "Requirement already satisfied: certifi>=2017.4.17 in /usr/local/lib/python3.7/dist-packages (from requests->transformers) (2022.9.24)\n",
            "Requirement already satisfied: chardet<4,>=3.0.2 in /usr/local/lib/python3.7/dist-packages (from requests->transformers) (3.0.4)\n",
            "Requirement already satisfied: idna<3,>=2.5 in /usr/local/lib/python3.7/dist-packages (from requests->transformers) (2.10)\n",
            "Installing collected packages: tokenizers, huggingface-hub, transformers\n",
            "Successfully installed huggingface-hub-0.10.1 tokenizers-0.13.2 transformers-4.24.0\n"
          ]
        }
      ]
    },
    {
      "cell_type": "code",
      "execution_count": 2,
      "metadata": {
        "id": "M-1kPYdcCUQt"
      },
      "outputs": [],
      "source": [
        "#Import needed packages\n",
        "from gensim.models.doc2vec import Doc2Vec, TaggedDocument \n",
        "from nltk.stem import PorterStemmer\n",
        "from nltk.tokenize import sent_tokenize, word_tokenize\n",
        "from numpy import median, array, exp\n",
        "from sklearn.cluster import KMeans\n",
        "from sklearn.feature_extraction.text import CountVectorizer\n",
        "from sklearn.metrics.pairwise import cosine_similarity\n",
        "from tqdm import tqdm\n",
        "from transformers import BertTokenizer, TFBertModel\n",
        "import copy\n",
        "import matplotlib.pyplot as plt\n",
        "import nltk\n",
        "import numpy as np\n",
        "import os\n",
        "import pandas as pd\n",
        "import pickle\n",
        "import re\n",
        "import requests\n",
        "import string\n",
        "import tensorflow as tf\n"
      ]
    },
    {
      "cell_type": "code",
      "source": [
        "#Download needed packages\n",
        "nltk.download('punkt')\n",
        "\n",
        "#### Load the pre-traiend BERT model #####################\n",
        "##########################################################\n",
        "tokenizer = BertTokenizer.from_pretrained('bert-base-uncased')\n",
        "model = TFBertModel.from_pretrained('bert-base-uncased')"
      ],
      "metadata": {
        "colab": {
          "base_uri": "https://localhost:8080/"
        },
        "id": "AcqpKvhID0JP",
        "outputId": "ba39e87c-1abc-4db6-cbb2-53cd943e9dff"
      },
      "execution_count": 135,
      "outputs": [
        {
          "output_type": "stream",
          "name": "stderr",
          "text": [
            "[nltk_data] Downloading package punkt to /root/nltk_data...\n",
            "[nltk_data]   Package punkt is already up-to-date!\n",
            "Some layers from the model checkpoint at bert-base-uncased were not used when initializing TFBertModel: ['nsp___cls', 'mlm___cls']\n",
            "- This IS expected if you are initializing TFBertModel from the checkpoint of a model trained on another task or with another architecture (e.g. initializing a BertForSequenceClassification model from a BertForPreTraining model).\n",
            "- This IS NOT expected if you are initializing TFBertModel from the checkpoint of a model that you expect to be exactly identical (initializing a BertForSequenceClassification model from a BertForSequenceClassification model).\n",
            "All the layers of TFBertModel were initialized from the model checkpoint at bert-base-uncased.\n",
            "If your task is similar to the task the model of the checkpoint was trained on, you can already use TFBertModel for predictions without further training.\n"
          ]
        }
      ]
    },
    {
      "cell_type": "code",
      "source": [
        "#load needed objects"
      ],
      "metadata": {
        "id": "kule1wtyECon"
      },
      "execution_count": 4,
      "outputs": []
    },
    {
      "cell_type": "code",
      "source": [
        "#constant variables\n",
        "dataset_covid_link = 'https://raw.githubusercontent.com/AlirezaPNouri/Storytelling/main/datasets/short_parsed_covid_data.csv'\n",
        "dataset_NYT_link = 'https://raw.githubusercontent.com/AlirezaPNouri/Storytelling/main/datasets/short_parsed_NYT_data.csv'\n",
        "dataset_percentage = .6\n",
        "# MAX_DATA = 100\n",
        "# doc_list =[item for item in range(MAX_DATA)]\n",
        "MAX_SENTENCE_LENGTH = 350\n",
        "MIN_SENTENCE_LENGTH = 200\n",
        "jump = 3 # jump size for gradient decent\n",
        "MAX_FEATURE_SIZE = 20 # max size of the gradient descent vector\n",
        "range_n_clusters = [2, 3, 4, 5, 6] #number of different clustering to compare the performance of the model over different clustering\n",
        "threshold_cluster_overlapping = 0.7 # to consider two clsuters are similar\n",
        "stopwords = ['i','me','my','myself','we','our','ours','ourselves','you','your','yours','yourself','yourselves','he','him','his','himself','she','her','hers','herself','it','its','itself','they','them','their','theirs','themselves','what','which','who','whom','this','that','these','those','am','is','are','was','were','be','been','being','have','has','had','having','do','does','did','doing','a','an','the','and','but','if','or','because','as','until','while','of','at','by','for','with','about','against','between','into','through','during','before','after','above','below','to','from','up','down','in','out','on','off','over','under','again','further','then','once','here','there','when','where','why','how','all','any','both','each','few','more','most','other','some','such','no','nor','not','only','own','same','so','than','too','very','s','t','can','will','just','don','should','now', 'of', 'within']\n",
        "story_picked = 92\n",
        "\n"
      ],
      "metadata": {
        "id": "XaVuJoSxDkfc"
      },
      "execution_count": 5,
      "outputs": []
    },
    {
      "cell_type": "code",
      "source": [
        "# download the dataset as a zip file from the git repo\n",
        "def dataset_downloader(str_):\n",
        "  \"\"\"\n",
        "  This function download a dataset\n",
        "  Arguments:\n",
        "    str_: the name of the dataset. It can be covid or NYT\n",
        "  Returns:\n",
        "    df: a pandas dataframe\n",
        "  \"\"\"\n",
        "  if str_ == 'NYT':\n",
        "    url = dataset_NYT_link\n",
        "  elif str_ == 'covid':\n",
        "    url = dataset_covid_link\n",
        "  else:\n",
        "    print('dataset is not choose correctly!')\n",
        "\n",
        "  print('Downloading dataset...')\n",
        "  res = requests.get(url, allow_redirects=True)\n",
        "  with open('small_dataset.csv','wb') as file:\n",
        "      file.write(res.content)\n",
        "  print('Download is done!')\n",
        "  df = pd.read_csv(\"/content/small_dataset.csv\", header= None, skiprows=1)\n",
        "  if str_ == 'covid':\n",
        "    df.columns = ['id', 'title', 'content', 'publish_time', 'author']\n",
        "  elif str_ == 'NYT':\n",
        "    df.columns = ['id', 'title', 'content', 'author', 'publish_time']\n",
        "  \n",
        "  df = df.dropna(how='any', axis=0)\n",
        "  print('dataset size after removing non-value cells is {}'.format(df.shape))\n",
        "  # reduce the size of dataset to dataset_percentage*dataset.shape\n",
        "  df = df.sample(frac=dataset_percentage)\n",
        "  print('The new size of dataset is {} and the columns are {}'.format(df.shape, df.columns.values ))\n",
        "  # remove the content that has less than MIN_SENTENCE_LENGTH words \n",
        "  df = df[df['content'].apply(lambda x : len(x.split(' ')))>=MIN_SENTENCE_LENGTH]\n",
        "\n",
        "  # keep the first 500 words in content\n",
        "  df['content'] = df['content'].apply(lambda x : ' '.join(x.split(' ')[:MAX_SENTENCE_LENGTH]))\n",
        "  return df\n"
      ],
      "metadata": {
        "id": "QBc3ncNdEIKo"
      },
      "execution_count": 6,
      "outputs": []
    },
    {
      "cell_type": "code",
      "source": [
        "# today_covid_df = dataset_downloader('covid')\n",
        "# today_nyt_df = dataset_downloader('NYT')"
      ],
      "metadata": {
        "id": "v_iBLtTGEg-7"
      },
      "execution_count": 7,
      "outputs": []
    },
    {
      "cell_type": "code",
      "source": [
        "def special_char_remover(str_):\n",
        "  \"\"\"\n",
        "  This function removes any special characters from a text\n",
        "  Arguments:\n",
        "    str_: a string\n",
        "  Returns:\n",
        "    A string\n",
        "  \"\"\"\n",
        "  return ' '.join(''.join(w for w in m if w.isalnum()) for m in str_.split(' '))"
      ],
      "metadata": {
        "id": "djVAXTWGExk-"
      },
      "execution_count": 8,
      "outputs": []
    },
    {
      "cell_type": "code",
      "source": [
        "### create embedding vector for each token in each document\n",
        "def bert_embedding_generator(df_):\n",
        "  \"\"\"\n",
        "  Generate the embedding for a document\n",
        "  Arguments:\n",
        "    df_: a pandas dataframe \n",
        "  Returns:\n",
        "    Embedding_dict: a dictionary of document indices and [embedding vectors, content]\n",
        "  \"\"\"\n",
        "  Embedding_dict = dict()\n",
        "  print('Start to generate the embedding vector for documents')\n",
        "  c = 0\n",
        "  for index, row in df_.iterrows():\n",
        "    content_ = row['content']\n",
        "    tmp_e = model(tf.constant(tokenizer.encode(content_))[None, :])[0][0]\n",
        "    tmp_d = tokenizer.tokenize(content_)\n",
        "    temp_dict = dict()\n",
        "    temp_dict['cls'] = tmp_e[0]\n",
        "    for emb, tok in zip(tmp_e[1:-1], tmp_d):\n",
        "      temp_dict[tok] = emb\n",
        "    temp_dict['sep'] = tmp_e[-1]\n",
        "    Embedding_dict[row['id']] = temp_dict\n",
        "    c +=1\n",
        "  print('Embedding is done for {} documents.'.format(c))\n",
        "  return Embedding_dict"
      ],
      "metadata": {
        "id": "s2T3ndBZFmUM"
      },
      "execution_count": 9,
      "outputs": []
    },
    {
      "cell_type": "code",
      "source": [
        "#### Create a list of dataframe out of the dataset. Each dataframe belongs to a timestamp #############\n",
        "#######################################################################################################\n",
        "# use 10 days as time interval\n",
        "def timestamps_generator(df_):\n",
        "  \"\"\"\n",
        "  This function collect data related to each timestamp separately in a dataframe\n",
        "  Arguments:\n",
        "    df_: a pandas dataframe\n",
        "  Returns:\n",
        "    df_list: a list of all timestamps data [df_1, df_2, ...]\n",
        "  \"\"\"\n",
        "  time_stamp = set()\n",
        "  df_list= list()\n",
        "  for index, row in df_.iterrows():\n",
        "    time_stamp.add(row['publish_time'][0:4])\n",
        "  # this is the new line added by ali at 11/08/2022\n",
        "  time_stamp = sorted(time_stamp)\n",
        "  # this is the new line added by ali at 11/08/2022\n",
        "  for time_interval in time_stamp:\n",
        "    new_df = df_[df_['publish_time'].str.slice(0, 4)== time_interval]\n",
        "    if new_df.shape[0]>5: #minimum number of doc in a timestamp\n",
        "      df_list.append(new_df)\n",
        "  return df_list"
      ],
      "metadata": {
        "id": "KukXhD_SFqo7"
      },
      "execution_count": 10,
      "outputs": []
    },
    {
      "cell_type": "code",
      "source": [
        "def time_fixer(str_):\n",
        "  \"\"\"\n",
        "  This function convert a date from x/x/xxxx to 0x0xxxxx\n",
        "  Arguments:\n",
        "    str_: a date in a string format\n",
        "  Returns:\n",
        "    a string without any / and all months and days are in two digit\n",
        "  \"\"\"\n",
        "  t_slot = str_.split('/')\n",
        "  t_slot[0] = t_slot[0] if len(t_slot[0]) == 2 else '0'+t_slot[0]\n",
        "  t_slot[1] = t_slot[1] if len(t_slot[1]) == 2 else '0'+t_slot[1]\n",
        "  return ''+t_slot[0]+t_slot[1]+t_slot[2]"
      ],
      "metadata": {
        "id": "R8gg0jm2GUlj"
      },
      "execution_count": 11,
      "outputs": []
    },
    {
      "cell_type": "code",
      "source": [
        "# print(time_fixer(today_nyt_df['publish_time'].iloc[10]))\n",
        "# print(time_fixer(today_covid_df['publish_time'].iloc[10]))"
      ],
      "metadata": {
        "id": "gQO1OGRxGYZ-"
      },
      "execution_count": 12,
      "outputs": []
    },
    {
      "cell_type": "code",
      "source": [
        "def find_similarity(Embed_):\n",
        "  \"\"\"\n",
        "  This function calculate the cosine similarity between each pair of words in a document and sort them as a new vector\n",
        "  Arguments:\n",
        "    Embed_: a dictionary of all doc and embedding seperated into their timestamps {timestamp1 {doc1{token1: embedding, token2: embedding}}}\n",
        "  Returns:\n",
        "    neighbor_ts_doc: a dictionary of all timestamps, docs and the neighbor similarity for each word\n",
        "  \"\"\"\n",
        "  tmp_collector = dict()\n",
        "  neighbor_ts_doc = dict()\n",
        "  for ts_ in tqdm(Embed_.keys()):\n",
        "    temp = Embed_[ts_]\n",
        "    final_list = dict()\n",
        "    for doc in temp.keys():\n",
        "      if doc in tmp_collector.keys():\n",
        "        final_list[doc] = tmp_collector[doc]\n",
        "      else:\n",
        "        neighbor_dict = dict()\n",
        "        track_dict = dict()\n",
        "        \n",
        "        for f_word, f_emb in temp[doc].items():\n",
        "          temp_list = list()\n",
        "          \n",
        "          for s_word, s_emb in temp[doc].items():\n",
        "            if (s_word, f_word) in track_dict.keys():\n",
        "              temp_list.append(track_dict[(s_word, f_word)])\n",
        "            else:\n",
        "              track_dict[(f_word, s_word)] = cosine_similarity([f_emb],[s_emb])[0][0]\n",
        "              temp_list.append(track_dict[(f_word, s_word)])\n",
        "          \n",
        "          neighbor_dict[f_word] =sorted(temp_list, reverse=True)[1:] # ignore the cosine similarity between a word and itself\n",
        "\n",
        "        final_list[doc] = neighbor_dict\n",
        "        tmp_collector[doc] = neighbor_dict\n",
        "\n",
        "      # print('Document {} is done!'.format(doc))\n",
        "    neighbor_ts_doc[ts_] = final_list\n",
        "  return neighbor_ts_doc"
      ],
      "metadata": {
        "id": "u0QfmOVtGtUf"
      },
      "execution_count": 13,
      "outputs": []
    },
    {
      "cell_type": "code",
      "source": [
        "\n",
        "#sigmoid function\n",
        "def amplifier_function(vec_):\n",
        "  \"\"\"\n",
        "  This function receives a vector and applies the curve below to reward the first part of the vector and to penalize the last part of the vector\n",
        "  Arguments:\n",
        "    vec_: a vector\n",
        "  Results:\n",
        "    g: a vector\n",
        "  \"\"\"\n",
        "  z = array(vec_)\n",
        "  z = z/np.linalg.norm(z)\n",
        "  g = 1 / (1 + exp(-z))\n",
        "  return g"
      ],
      "metadata": {
        "id": "D8lSeYzSGx9t"
      },
      "execution_count": 14,
      "outputs": []
    },
    {
      "cell_type": "code",
      "source": [
        "def gradient_calculator(ns_dict, n_step, MAX_FEATURE_SIZE):\n",
        "  \"\"\"\n",
        "  This function receives all the similarity neighbor for each word in all documents and apply gradient descent over them by the step\n",
        "  Arguments:\n",
        "    ns_dict: a dictinary of all neighbor similarity for all tokens\n",
        "    n_step: the jump value for gradient discent\n",
        "    MAX_FEATURE_SIZE: the maximum size for each feature victor\n",
        "  Returns:\n",
        "    final_dict: a dictionary of all gradient discent of tokens neighbor similarity\n",
        "  \"\"\"\n",
        "  final_dict = dict()\n",
        "  for ts_ in tqdm(ns_dict.keys()):\n",
        "    gradient_descent_neighbors = dict()\n",
        "    word_neighbor_similarity = ns_dict[ts_]\n",
        "    for doc in word_neighbor_similarity.keys():\n",
        "      temp_dict = dict()\n",
        "      for word, embedding in word_neighbor_similarity[doc].items():\n",
        "        vec_size = len(embedding)\n",
        "        vec_size -= vec_size%n_step\n",
        "        embedding = embedding[0:vec_size]\n",
        "        new_list = [embedding[x:x+n_step] for x in range(0, vec_size, n_step)]\n",
        "        tmp_list = list()\n",
        "        for ele in new_list:\n",
        "          m1,b1 = np.polyfit(np.arange(0, n_step), ele, 1)\n",
        "          tmp_list.append(m1)\n",
        "        temp_dict[word] = amplifier_function(tmp_list[0:MAX_FEATURE_SIZE])\n",
        "      gradient_descent_neighbors[doc] = temp_dict\n",
        "      # print('Document {} is done!'.format(doc))\n",
        "    final_dict[ts_] = gradient_descent_neighbors\n",
        "  return final_dict"
      ],
      "metadata": {
        "id": "y85QtrXdGz7A"
      },
      "execution_count": 15,
      "outputs": []
    },
    {
      "cell_type": "code",
      "source": [
        "\n",
        "# clustering the tokens in each document. It creates differnt number of clustering\n",
        "\n",
        "def cluster_maker(final_vec_):\n",
        "  \"\"\"\n",
        "  This function generates clusters based on featur vectors\n",
        "  Arguments:\n",
        "    final_vec_: a dictionary of all gradient discent of tokens neighbor similarity\n",
        "  Returns:\n",
        "    total_clustering: a dictionary contains timestamps and clusters in each timestamp \n",
        "    total_centroid: a dictionart contains timestamps and centroids for each clusters\n",
        "  \"\"\"\n",
        "  total_clustering = dict()\n",
        "  total_centroid = dict()\n",
        "  for ts_ in tqdm(final_vec_.keys()):\n",
        "    gradient_descent_neighbors = final_vec_[ts_]\n",
        "    all_clusters = dict()\n",
        "    all_centroid = dict()\n",
        "    for doc, featurs in gradient_descent_neighbors.items():\n",
        "      clusters_per_doc = dict()\n",
        "      centroids_per_doc = dict()\n",
        "      for n_clusters in range_n_clusters:\n",
        "        clusterer = KMeans(n_clusters=n_clusters, random_state=10, max_iter=100,)\n",
        "        clusters_per_doc[n_clusters] = clusterer.fit_predict(list(featurs.values()))\n",
        "        centroids_per_doc[n_clusters] = clusterer.cluster_centers_\n",
        "      all_clusters[doc] = clusters_per_doc\n",
        "      all_centroid[doc] = centroids_per_doc\n",
        "      # print('Document {} is done!'.format(doc))\n",
        "    total_clustering[ts_] = all_clusters\n",
        "    total_centroid[ts_] = all_centroid\n",
        "  return total_clustering, total_centroid\n",
        "    "
      ],
      "metadata": {
        "id": "RESoB3dgHEbc"
      },
      "execution_count": 16,
      "outputs": []
    },
    {
      "cell_type": "code",
      "source": [
        "def sorted_clustering(all_gradient_descent_neighbors,all_clusters_dict, all_centroids_dict):\n",
        "  final_clustering_dict = dict()\n",
        "  for ts_ in tqdm(all_clusters_dict.keys()):\n",
        "    gradient_descent_neighbors = all_gradient_descent_neighbors[ts_]\n",
        "    all_centroid = all_centroids_dict[ts_]\n",
        "    all_clusters = all_clusters_dict[ts_]\n",
        "    #create a total clusters sorted dictionary\n",
        "    ## the structure of total_docs_clusters  is {doc0: {number_of_clusters { cluster_number: {token0: closeness_to_centroid, token1: closeness_to_centroid ...} }}}\n",
        "    total_docs_clusters = dict()\n",
        "    for doc in all_clusters.keys():\n",
        "      temp_cluster = all_clusters[doc]\n",
        "      dic_for_clustering = dict()\n",
        "      for n_cluster in range_n_clusters:\n",
        "        temp_dict = dict()\n",
        "        for la in range(n_cluster):\n",
        "          temp_list = dict()\n",
        "          for label_, value_ in zip(temp_cluster[n_cluster],gradient_descent_neighbors[doc].items()):\n",
        "            if label_ == la:\n",
        "              temp_list[value_[0]] = np.sum(np.square(value_[1] - all_centroid[doc][n_cluster][la]))\n",
        "          temp_dict[la]=temp_list\n",
        "        dic_for_clustering[n_cluster] = temp_dict\n",
        "      total_docs_clusters[doc] = dic_for_clustering\n",
        "      # print('Document {} is done!'.format(doc))\n",
        "    final_clustering_dict[ts_] = total_docs_clusters\n",
        "  return final_clustering_dict"
      ],
      "metadata": {
        "id": "R9bYQIKbHLKk"
      },
      "execution_count": 17,
      "outputs": []
    },
    {
      "cell_type": "code",
      "source": [
        "def similar_doc(doc_one, doc_two):\n",
        "  \"\"\"\n",
        "  #find similar documents\n",
        "  \"\"\"\n",
        "  list_sim = list()\n",
        "  for clu_1 in doc_one:\n",
        "    total_jac = 0\n",
        "    for clu_2 in doc_two:\n",
        "      jac_val = jaccard_similarity(clu_1, clu_2)\n",
        "      total_jac += jac_val\n",
        "    # total_jac /= len(doc_two)\n",
        "    list_sim.append(total_jac)\n",
        "  return sum(list_sim)\n",
        "  # return sum(list_sim)/(len(doc_one)*len(doc_two))   #with normalizing based on the number of word groups"
      ],
      "metadata": {
        "id": "aD-leFYeH-u7"
      },
      "execution_count": 18,
      "outputs": []
    },
    {
      "cell_type": "code",
      "source": [
        "def normalize_vec(vec, min_, max_):\n",
        "  \"\"\"\n",
        "  # this function will receive a vector and the min and max of that vector and will return the normalized vec \n",
        "  \"\"\"\n",
        "  range_val = (max_ - min_)+0.0000001\n",
        "  vec = [item/range_val for item in vec]\n",
        "  min_vec = min(vec)\n",
        "  vec = [item - min_vec for item in vec]\n",
        "  return vec\n",
        "\n",
        "\n",
        "\n",
        "def normalize_value(item, min_, max_):\n",
        "  \"\"\"\n",
        "  # this function will receive a value of a vector, the min and the max of the vector and returns the normalized value\n",
        "  \"\"\"\n",
        "  range_val = (max_ - min_)+0.0000001\n",
        "  vec = (item-min_)/range_val\n",
        "  return vec\n",
        "def normalize_value_(vec):\n",
        "  \"\"\"\n",
        "  # this function will receive a value of a vector, the min and the max of the vector and returns the normalized value\n",
        "  \"\"\"\n",
        "  min_ = min(vec.values())\n",
        "  max_ = max(vec.values())\n",
        "  range_val = (max_ - min_)+0.0000001\n",
        "  for doc in vec.keys():\n",
        "    vec[doc] = (vec[doc] - min_) /range_val\n",
        "\n",
        "  return vec"
      ],
      "metadata": {
        "id": "TDTl7GVWHQh9"
      },
      "execution_count": 49,
      "outputs": []
    },
    {
      "cell_type": "code",
      "source": [
        "def normalizer(total_docs_clustering_):\n",
        "  \"\"\"\n",
        "    normalize the similarity in each cluster. It goes and find the min and max values in each clustering and make those similarity between [0,1] (the similarity here is euclidean distance between each token and the centroid)\n",
        "\n",
        "  \"\"\"\n",
        "  all_total_docs_clusters = dict()\n",
        "  for ts_ in tqdm(total_docs_clustering_.keys()):\n",
        "    total_docs_clusters = total_docs_clustering_[ts_]\n",
        "    for doc in total_docs_clusters.keys():\n",
        "      temp_doc = total_docs_clusters[doc]\n",
        "      for cluster_rank in temp_doc.keys():\n",
        "        temp_clustering = temp_doc[cluster_rank]\n",
        "        min_sim = 1\n",
        "        max_sim = 0\n",
        "        for ind in temp_clustering.keys():\n",
        "          for ele, val_ in temp_clustering[ind].items():\n",
        "            min_sim = min_sim if min_sim<val_ else val_\n",
        "            max_sim = max_sim if val_<max_sim else val_ \n",
        "\n",
        "        for ins in temp_clustering.keys():\n",
        "          for el in total_docs_clusters[doc][cluster_rank][ins].keys():\n",
        "            total_docs_clusters[doc][cluster_rank][ins][el] = normalize_value(total_docs_clusters[doc][cluster_rank][ins][el], min_sim, max_sim)\n",
        "      # print('Document {} is done!'.format(doc))\n",
        "    all_total_docs_clusters[ts_] = total_docs_clusters\n",
        "  return all_total_docs_clusters"
      ],
      "metadata": {
        "id": "OShRcV48HVHP"
      },
      "execution_count": 20,
      "outputs": []
    },
    {
      "cell_type": "code",
      "source": [
        "def stopword_remover(all_dict_):\n",
        "  final_dict_w_stopword = dict()\n",
        "  for ts_ in all_dict_.keys():\n",
        "    total_docs_clusters = all_dict_[ts_]\n",
        "    #remove stopwords\n",
        "    total_docs_clusters_wo_stopwords = dict()\n",
        "    for doc in total_docs_clusters.keys():\n",
        "      temp_doc = {}\n",
        "      for cluster_rank in total_docs_clusters[doc].keys():\n",
        "        temp_clustering = {}\n",
        "        for ins in total_docs_clusters[doc][cluster_rank].keys():\n",
        "          temp_cluster = {}\n",
        "          for items in total_docs_clusters[doc][cluster_rank][ins].items():\n",
        "            if items[0] not in stopwords:\n",
        "              temp_cluster[items[0]] = items[1]\n",
        "          temp_clustering[ins] = temp_cluster\n",
        "        temp_doc[cluster_rank] = temp_clustering\n",
        "      total_docs_clusters_wo_stopwords[doc] = temp_doc\n",
        "    final_dict_w_stopword[ts_] = total_docs_clusters_wo_stopwords\n",
        "  return final_dict_w_stopword"
      ],
      "metadata": {
        "id": "yDxV_1YcHbEj"
      },
      "execution_count": 21,
      "outputs": []
    },
    {
      "cell_type": "code",
      "source": [
        "# Jaccard index function\n",
        "def jaccard_similarity(text1_list, text2_list):\n",
        "  a = set(text1_list)\n",
        "  b = set(text2_list)\n",
        "  return len(a.intersection(b))/len(a.union(b))"
      ],
      "metadata": {
        "id": "A3PDVQ8JHdkZ"
      },
      "execution_count": 22,
      "outputs": []
    },
    {
      "cell_type": "code",
      "source": [
        "# def word_group_generator(all_clusters_):\n",
        "#   final_total_doc_word_group = dict()\n",
        "#   for ts_ in tqdm(all_clusters_.keys()):\n",
        "#     total_docs_clusters_wo_stopwords = all_clusters_[ts_]\n",
        "#     total_doc_word_groups = dict()\n",
        "#     for doc in total_docs_clusters_wo_stopwords.keys():\n",
        "#       docs_clusters = total_docs_clusters_wo_stopwords[doc]\n",
        "#       # print(docs_clusters)\n",
        "#       temp_list_word_groups = list()\n",
        "#       for cluster_num in list(docs_clusters.keys())[:-1]:\n",
        "#         for cluster in range(cluster_num):\n",
        "#           for next_cluster in range(cluster_num+1):\n",
        "#             cl1 = list()\n",
        "#             cl1_w_sim = dict()\n",
        "#             cl2 = list()\n",
        "#             cl2_w_sim = dict()\n",
        "#             joint_list = list()\n",
        "#             for item in docs_clusters[cluster_num][cluster].items():\n",
        "#               cl1.append(item[0])\n",
        "#               cl1_w_sim[item[0]] =  item[1]\n",
        "#             for another_item in docs_clusters[cluster_num+1][next_cluster].items():\n",
        "#               cl2.append(another_item[0])\n",
        "#               cl2_w_sim[another_item[0]] = another_item[1]\n",
        "#             # print(' ({}, {}, {}) --> '.format(cluster_num, cluster, next_cluster), jaccard_similarity(cl1, cl2))\n",
        "#             jac_val = jaccard_similarity(cl1, cl2)\n",
        "#             if jac_val > threshold_cluster_overlapping:\n",
        "#               jnt_list = list(set(cl1).intersection(cl2))\n",
        "#               dict_vocab = dict()\n",
        "#               for el in jnt_list:\n",
        "#                 dict_vocab[el] = max(cl1_w_sim[el], cl2_w_sim[el])\n",
        "\n",
        "#               temp_list_word_groups.append([dict_vocab ,jac_val])\n",
        "      \n",
        "\n",
        "#       total_doc_word_groups[doc] = temp_list_word_groups\n",
        "#       # the structure of total_doc_word_group is {doc0: [ [ {word1: normalized_normalized_distance_to_centroid, ....}, similarity between two clusters] [{word1: normalized_distance_to_centroid, ....}, similarity_between_two_clusters]... ], doc1: ...}\n",
        "#     final_total_doc_word_group[ts_] = total_doc_word_groups\n",
        "#   return final_total_doc_word_group\n",
        "\n",
        "\n",
        "def word_group_generator(all_clusters_):\n",
        "  total_docs_clusters_wo_stopwords = all_clusters_\n",
        "  total_doc_word_groups = dict()\n",
        "  for doc in total_docs_clusters_wo_stopwords.keys():\n",
        "    docs_clusters = total_docs_clusters_wo_stopwords[doc]\n",
        "    # print(docs_clusters)\n",
        "    temp_list_word_groups = list()\n",
        "    for cluster_num in list(docs_clusters.keys())[:-1]:\n",
        "      for cluster in range(cluster_num):\n",
        "        for next_cluster in range(cluster_num+1):\n",
        "          cl1 = list()\n",
        "          cl1_w_sim = dict()\n",
        "          cl2 = list()\n",
        "          cl2_w_sim = dict()\n",
        "          joint_list = list()\n",
        "          for item in docs_clusters[cluster_num][cluster].items():\n",
        "            cl1.append(item[0])\n",
        "            cl1_w_sim[item[0]] =  item[1]\n",
        "          for another_item in docs_clusters[cluster_num+1][next_cluster].items():\n",
        "            cl2.append(another_item[0])\n",
        "            cl2_w_sim[another_item[0]] = another_item[1]\n",
        "          # print(' ({}, {}, {}) --> '.format(cluster_num, cluster, next_cluster), jaccard_similarity(cl1, cl2))\n",
        "          jac_val = jaccard_similarity(cl1, cl2)\n",
        "          if jac_val > threshold_cluster_overlapping:\n",
        "            jnt_list = list(set(cl1).intersection(cl2))\n",
        "            dict_vocab = dict()\n",
        "            for el in jnt_list:\n",
        "              dict_vocab[el] = max(cl1_w_sim[el], cl2_w_sim[el])\n",
        "\n",
        "            temp_list_word_groups.append([dict_vocab ,jac_val])\n",
        "    \n",
        "\n",
        "    total_doc_word_groups[doc] = temp_list_word_groups\n",
        "      # the structure of total_doc_word_group is {doc0: [ [ {word1: normalized_normalized_distance_to_centroid, ....}, similarity between two clusters] [{word1: normalized_distance_to_centroid, ....}, similarity_between_two_clusters]... ], doc1: ...}\n",
        "    \n",
        "  return total_doc_word_groups\n"
      ],
      "metadata": {
        "id": "mkdIAZw3HfQx"
      },
      "execution_count": 23,
      "outputs": []
    },
    {
      "cell_type": "code",
      "source": [
        "# def distance_2_freq(all_clusters_):\n",
        "#   \"\"\"\n",
        "#   change the distance to centroid to the frequency [0, 1] --> [10, 1] \n",
        "#   \"\"\"\n",
        "#   final_dict = dict()\n",
        "#   for ts_ in tqdm(all_clusters_.keys()):\n",
        "#     total_doc_word_groups_ = all_clusters_[ts_]\n",
        "#     #change the distance to centroid to the frequency [0, 1] --> [10, 1] \n",
        "#     for doc in total_doc_word_groups_.keys():\n",
        "#       temp_list = list()\n",
        "#       for word_list in total_doc_word_groups_[doc]:\n",
        "#         temp_dict = dict()\n",
        "#         for ele in word_list[0].keys():\n",
        "#           temp_dict[ele] =int(9* (1-word_list[0][ele]))+1\n",
        "#         temp_list.append(temp_dict)\n",
        "#       total_doc_word_groups_[doc] = temp_list\n",
        "#     final_dict[ts_] = total_doc_word_groups_\n",
        "#   return final_dict\n",
        "#     # the new structure of total_doc_word_groups_ is {doc0: [{groupOnewords}, grouptwowords], doc1}   , grouponewords = {word1:frequency, word2:ferquency}\n",
        "\n",
        "\n",
        "def distance_2_freq(all_clusters_):\n",
        "  \"\"\"\n",
        "  change the distance to centroid to the frequency [0, 1] --> [10, 1] \n",
        "  \"\"\"\n",
        "\n",
        "  total_doc_word_groups_ = all_clusters_\n",
        "  #change the distance to centroid to the frequency [0, 1] --> [10, 1] \n",
        "  for doc in total_doc_word_groups_.keys():\n",
        "    temp_list = list()\n",
        "    for word_list in total_doc_word_groups_[doc]:\n",
        "      temp_dict = dict()\n",
        "      for ele in word_list[0].keys():\n",
        "        temp_dict[ele] =int(9* (1-word_list[0][ele]))+1\n",
        "      temp_list.append(temp_dict)\n",
        "    total_doc_word_groups_[doc] = temp_list\n",
        "\n",
        "  return total_doc_word_groups_\n",
        "    # the new structure of total_doc_word_groups_ is {doc0: [{groupOnewords}, grouptwowords], doc1}   , grouponewords = {word1:frequency, word2:ferquency} "
      ],
      "metadata": {
        "id": "NLoaJjXEHm8K"
      },
      "execution_count": 24,
      "outputs": []
    },
    {
      "cell_type": "code",
      "source": [
        "def bert_classifier_generator(total_doc_word_embedding):\n",
        "  \"\"\"\n",
        "  doc_matrix is a dictionary of each doc and other doc similarity to this doc based on BERT cls vector             doc_embedding ={doc0: {1: int(9*euclidian_distance +1 ), 2:int(9*euclidian_distance +1 )}, doc1}  \n",
        "\n",
        "  \"\"\"\n",
        "  total_dict = dict()\n",
        "  for doc_1 in tqdm(total_doc_word_embedding.keys()):\n",
        "    temp_dict = dict()\n",
        "    for doc_2 in total_doc_word_embedding.keys():\n",
        "      if doc_1 != doc_2:\n",
        "        temp_dict[doc_2] =np.linalg.norm(total_doc_word_embedding[doc_1]['cls']-total_doc_word_embedding[doc_2]['cls'])\n",
        "    total_dict[doc_1] = temp_dict\n",
        "    # print('Document {} is done!'.format(doc_1))\n",
        "  return total_dict  "
      ],
      "metadata": {
        "id": "Ui5MDJr6Hrhg"
      },
      "execution_count": 25,
      "outputs": []
    },
    {
      "cell_type": "code",
      "source": [
        "# def similarity_documents(all_dict_):\n",
        "#   \"\"\"\n",
        "#     calculate the similarity between two documents by using jaccard index of all word groups in each cluster by considering the frequency of those words\n",
        "#     the structure of total_clustering_w_frequency is {doc0:[[word_groups0],[word_groups1], ...], doc1: }\n",
        "#   \"\"\"\n",
        "#   total_dict_ = dict()\n",
        "#   for ts_ in tqdm(all_dict_.keys()):\n",
        "#     total_doc_word_groups_ = all_dict_[ts_]\n",
        "#     total_clustering_w_frequency = dict()\n",
        "#     for doc in total_doc_word_groups_.keys():\n",
        "#       list_word_cloud = list()\n",
        "#       for word_group in total_doc_word_groups_[doc]:\n",
        "#         temp_list = list()\n",
        "#         for word in word_group.items():\n",
        "#           for ind in range(1, word[1]+1):\n",
        "#             temp_list.append(word[0])\n",
        "#         list_word_cloud.append(temp_list)\n",
        "#       total_clustering_w_frequency[doc] = list_word_cloud\n",
        "#       # print('document {} is done!'.format(doc))\n",
        "#     total_dict_[ts_] = total_clustering_w_frequency\n",
        "#   return total_dict_\n",
        "def similarity_documents(all_dict_):\n",
        "  \"\"\"\n",
        "    calculate the similarity between two documents by using jaccard index of all word groups in each cluster by considering the frequency of those words\n",
        "    the structure of total_clustering_w_frequency is {doc0:[[word_groups0],[word_groups1], ...], doc1: }\n",
        "  \"\"\"\n",
        "\n",
        "  total_doc_word_groups_ = all_dict_\n",
        "  total_clustering_w_frequency = dict()\n",
        "  for doc in tqdm(total_doc_word_groups_.keys()):\n",
        "    list_word_cloud = list()\n",
        "    for word_group in total_doc_word_groups_[doc]:\n",
        "      temp_list = list()\n",
        "      for word in word_group.items():\n",
        "        for ind in range(1, word[1]+1):\n",
        "          temp_list.append(word[0])\n",
        "      list_word_cloud.append(temp_list)\n",
        "    total_clustering_w_frequency[doc] = list_word_cloud\n",
        "    # print('document {} is done!'.format(doc))\n",
        "\n",
        "  return total_doc_word_groups_"
      ],
      "metadata": {
        "id": "2kGVJIueH4-G"
      },
      "execution_count": 26,
      "outputs": []
    },
    {
      "cell_type": "code",
      "source": [
        "# def weight_matrix_generator(all_dict_):\n",
        "#   final_dict_ = dict()\n",
        "#   for ts_ in tqdm(all_dict_.keys()):\n",
        "#     total_clustering_w_frequency_ = all_dict_[ts_]\n",
        "#     #create a matrix of document similarity based on the jaccard index of the similar words in each word group in each document\n",
        "#     doc_matrix=dict()\n",
        "#     for first_doc in total_clustering_w_frequency_.keys():\n",
        "#       temp_dict = dict()\n",
        "#       for second_doc in total_clustering_w_frequency_.keys():\n",
        "#         if first_doc != second_doc:\n",
        "#           temp_dict[second_doc] = similar_doc(total_clustering_w_frequency_[first_doc], total_clustering_w_frequency_[second_doc])\n",
        "#       doc_matrix[first_doc] = temp_dict\n",
        "#       # print('Document {} is done'.format(first_doc))\n",
        "    \n",
        "#     #normalize the weight and invert it. if an index is high that means they are similar so the weight must be low\n",
        "\n",
        "#     for doc in doc_matrix.keys():\n",
        "#       min_ = 10000\n",
        "#       max_ = -10000\n",
        "#       for ele in doc_matrix[doc].items():\n",
        "#         min_ = min_ if min_<ele[1] else ele[1]\n",
        "#         max_ = max_ if max_> ele[1] else ele[1]\n",
        "#       for ele in doc_matrix[doc].keys():\n",
        "#         doc_matrix[doc][ele] = int(99*(1-normalize_value(doc_matrix[doc][ele], min_, max_))+1)\n",
        "\n",
        "#     final_dict_[ts_]= doc_matrix\n",
        "#   return final_dict_\n",
        "def weight_matrix_generator(all_dict_):\n",
        "  total_clustering_w_frequency_ = all_dict_\n",
        "  #create a matrix of document similarity based on the jaccard index of the similar words in each word group in each document\n",
        "  doc_matrix=dict()\n",
        "  for first_doc in tqdm(total_clustering_w_frequency_.keys()):\n",
        "    temp_dict = dict()\n",
        "    for second_doc in total_clustering_w_frequency_.keys():\n",
        "      if first_doc != second_doc:\n",
        "        temp_dict[second_doc] = similar_doc(total_clustering_w_frequency_[first_doc], total_clustering_w_frequency_[second_doc])\n",
        "    doc_matrix[first_doc] = temp_dict\n",
        "    # print('Document {} is done'.format(first_doc))\n",
        "  \n",
        "  #normalize the weight and invert it. if an index is high that means they are similar so the weight must be low\n",
        "  print('Start normalize the vectors')\n",
        "  for doc in doc_matrix.keys():\n",
        "    doc_matrix[doc] = normalize_value_(doc_matrix[doc])\n",
        "\n",
        "  return doc_matrix\n"
      ],
      "metadata": {
        "id": "TpPIRAyLIAZm"
      },
      "execution_count": 50,
      "outputs": []
    },
    {
      "cell_type": "code",
      "source": [
        "# A*Search algorithm\n",
        "\n",
        "from collections import deque\n",
        "\n",
        "class Graph:\n",
        "\n",
        "    def __init__(self,heuristic, adjacency_list, start_node, stop_node):\n",
        "        self.adjacency_list = adjacency_list\n",
        "        self.H = dict()\n",
        "        self.start_node = start_node\n",
        "        self.stop_node = stop_node\n",
        "        self.heuristic = heuristic\n",
        "        for ele in heuristic[stop_node]:\n",
        "          self.H[ele[0]] = ele[1]\n",
        "        # self.H = {0: 1, 1: 1, 2: 1, 3: 1, 4: 1, 5: 1, 6: 1, 7: 1, 8: 1, 9: 1, 10: 1, 11: 1, 12: 1, 13: 1, 14: 1, 15: 1, 16: 1, 17: 1, 18: 1, 19: 1, 20: 1, 21: 1, 22: 1, 23: 1, 24: 1, 25: 1, 26: 1, 27: 1, 28: 1, 29: 1, 30: 1, 31: 1, 32: 1, 33: 1, 34: 1, 35: 1, 36: 1, 37: 1, 38: 1, 39: 1, 40: 1, 41: 1, 42: 1, 43: 1, 44: 1, 45: 1, 46: 1, 47: 1, 48: 1, 49: 1, 50: 1, 51: 1, 52: 1, 53: 1, 54: 1, 55: 1, 56: 1, 57: 1, 58: 1, 59: 1, 60: 1, 61: 1, 62: 1, 63: 1, 64: 1, 65: 1, 66: 1, 67: 1, 68: 1, 69: 1, 70: 1, 71: 1, 72: 1, 73: 1, 74: 1, 75: 1, 76: 1, 77: 1, 78: 1, 79: 1, 80: 1, 81: 1, 82: 1, 83: 1, 84: 1, 85: 1, 86: 1, 87: 1, 88: 1, 89: 1, 90: 1, 91: 1, 92: 1, 93: 1, 94: 1, 95: 1, 96: 1, 97: 1, 98: 1, 99: 1}\n",
        "      \n",
        "    # def get_neighbors(self, v):\n",
        "    #     return self.adjacency_list[v]\n",
        "    # # heuristic function with equal values for all nodes\n",
        "    \n",
        "    # def h(self, n):\n",
        "    #   # H = {0: 1, 1: 1, 2: 1, 3: 1, 4: 1, 5: 1, 6: 1, 7: 1, 8: 1, 9: 1, 10: 1, 11: 1, 12: 1, 13: 1, 14: 1, 15: 1, 16: 1, 17: 1, 18: 1, 19: 1, 20: 1, 21: 1, 22: 1, 23: 1, 24: 1, 25: 1, 26: 1, 27: 1, 28: 1, 29: 1, 30: 1, 31: 1, 32: 1, 33: 1, 34: 1, 35: 1, 36: 1, 37: 1, 38: 1, 39: 1, 40: 1, 41: 1, 42: 1, 43: 1, 44: 1, 45: 1, 46: 1, 47: 1, 48: 1, 49: 1, 50: 1, 51: 1, 52: 1, 53: 1, 54: 1, 55: 1, 56: 1, 57: 1, 58: 1, 59: 1, 60: 1, 61: 1, 62: 1, 63: 1, 64: 1, 65: 1, 66: 1, 67: 1, 68: 1, 69: 1, 70: 1, 71: 1, 72: 1, 73: 1, 74: 1, 75: 1, 76: 1, 77: 1, 78: 1, 79: 1, 80: 1, 81: 1, 82: 1, 83: 1, 84: 1, 85: 1, 86: 1, 87: 1, 88: 1, 89: 1, 90: 1, 91: 1, 92: 1, 93: 1, 94: 1, 95: 1, 96: 1, 97: 1, 98: 1, 99: 1}\n",
        "    #   return self.H[n]\n",
        "    def a_star_algorithm(self):\n",
        "\n",
        "      # open_list is a list of nodes which have been visited, but who's neighbors\n",
        "      # haven't all been inspected, starts off with the start node\n",
        "      # closed_list is a list of nodes which have been visited\n",
        "      # and who's neighbors have been inspected\n",
        "      open_list = set([self.start_node])\n",
        "      closed_list = set([])\n",
        "      # g contains current distances from start_node to all other nodes\n",
        "      # the default value (if it's not found in the map) is +infinity\n",
        "      g = {}\n",
        "      g[self.start_node] = 0\n",
        "      # parents contains an adjacency map of all nodes\n",
        "      parents = {}\n",
        "      parents[self.start_node] = self.start_node\n",
        "      while len(open_list) > 0:\n",
        "          n = None\n",
        "          # find a node with the lowest value of f() - evaluation function\n",
        "          for v in open_list:\n",
        "              if n == None or g[v] + self.H[v] < g[n] + self.H[n]:\n",
        "              # if n == None or g[v] + self.H[v] < g[n] + self.H[n]:\n",
        "                  n = v;\n",
        "          if n == None:\n",
        "              print('Path does not exist!')\n",
        "              return None\n",
        "          # if the current node is the stop_node\n",
        "          # then we begin reconstructin the path from it to the start_node\n",
        "          if n == self.stop_node:\n",
        "              reconst_path = []\n",
        "              while parents[n] != n:\n",
        "                  reconst_path.append(n)\n",
        "                  n = parents[n]\n",
        "              reconst_path.append(self.start_node)\n",
        "              reconst_path.reverse()\n",
        "              print('Path found: {}'.format(reconst_path))\n",
        "              return reconst_path\n",
        "          # for all neighbors of the current node do\n",
        "          for (m, weight) in self.adjacency_list[n]:\n",
        "              # if the current node isn't in both open_list and closed_list\n",
        "              # add it to open_list and note n as it's parent\n",
        "              avr = 0\n",
        "              sam = 0\n",
        "              for t in self.heuristic[n]: \n",
        "                  avr += t[1]\n",
        "                  if t[0] == m:\n",
        "                    sam = t[1]\n",
        "              if sam > avr/2:\n",
        "                  continue\n",
        "              if m not in open_list and m not in closed_list:\n",
        "                  open_list.add(m)\n",
        "                  parents[m] = n\n",
        "                  g[m] = g[n] + weight\n",
        "              # otherwise, check if it's quicker to first visit n, then m\n",
        "              # and if it is, update parent data and g data\n",
        "              # and if the node was in the closed_list, move it to open_list\n",
        "              else:\n",
        "                  if g[m] > g[n] + weight:\n",
        "                      g[m] = g[n] + weight\n",
        "                      parents[m] = n\n",
        "                      if m in closed_list:\n",
        "                          closed_list.remove(m)\n",
        "                          open_list.add(m)\n",
        "          # remove n from the open_list, and add it to closed_list\n",
        "          # because all of his neighbors were inspected\n",
        "          open_list.remove(n)\n",
        "          closed_list.add(n)\n",
        "\n",
        "      print('Path does not exist!')\n",
        "      return None"
      ],
      "metadata": {
        "id": "uqH5DD2rIFp8"
      },
      "execution_count": 28,
      "outputs": []
    },
    {
      "cell_type": "code",
      "source": [
        "def a_search(all_embedding, all_weight):\n",
        "  result_dict = dict()\n",
        "  for ts_ in all_embedding.keys():\n",
        "    doc_embedding_ = all_embedding[ts_]\n",
        "    doc_matrix_ = all_weight[ts_]\n",
        "    start_ = list(doc_embedding_.keys())[0]\n",
        "    end_ = list(doc_embedding_.keys())[-1]\n",
        "    #create the adjacancy matrix from the euclidean distanse of the doc embedding\n",
        "    #heuristic\n",
        "\n",
        "    heuristic = dict()\n",
        "    for first_doc in doc_embedding_.keys():\n",
        "      temp_list = list()\n",
        "      for second_doc in doc_embedding_.keys():\n",
        "        if first_doc != second_doc:\n",
        "          temp_list.append((second_doc, doc_embedding_[first_doc][second_doc]))\n",
        "        else:\n",
        "          temp_list.append((second_doc, 0))\n",
        "      heuristic[first_doc] = temp_list\n",
        "    # print('heuristic is ', heuristic)\n",
        "\n",
        "    # the weights\n",
        "    doc_weights = dict()\n",
        "    for first_doc in doc_matrix_.keys():\n",
        "      temp_dict = list()\n",
        "      for second_doc in doc_matrix_.keys():\n",
        "        if first_doc != second_doc:\n",
        "          temp_dict.append((second_doc, doc_matrix_[first_doc][second_doc]))\n",
        "      doc_weights[first_doc] = temp_dict\n",
        "    # print('weights is ', doc_weights)\n",
        "    graph1 = Graph(heuristic, doc_weights, start_, end_)\n",
        "    result_dict[ts_] = graph1.a_star_algorithm()\n",
        "    print('Timestamp {} is done!'.format(ts_))\n",
        "  return result_dict"
      ],
      "metadata": {
        "id": "HHUdOTeEIHp2"
      },
      "execution_count": 29,
      "outputs": []
    },
    {
      "cell_type": "code",
      "source": [
        "def merging_df(list_df_):\n",
        "  new_df_list = list()\n",
        "  for n in range(len(list_df_)-1):\n",
        "    frames = [list_df_[n], list_df_[n+1]]\n",
        "    new_df_list.append(pd.concat(frames))\n",
        "  new_df_list.append(list_df_[n+1])\n",
        "  return new_df_list"
      ],
      "metadata": {
        "id": "25Fa_pggIJvh"
      },
      "execution_count": 30,
      "outputs": []
    },
    {
      "cell_type": "code",
      "source": [
        "def get_df_size(list_of_df_):\n",
        "  tmp_list = list()\n",
        "  for df_ in list_of_df_:\n",
        "    tmp_list.append(len(list(df_['id'])))\n",
        "  return tmp_list"
      ],
      "metadata": {
        "id": "0snKgnHVIMI3"
      },
      "execution_count": 31,
      "outputs": []
    },
    {
      "cell_type": "code",
      "source": [
        "df = dataset_downloader('NYT')\n",
        "df['content'] = df['content'].apply( lambda x: special_char_remover(x)) # remove special characters\n",
        "df['publish_time'] = df['publish_time'].apply(lambda x: time_fixer(x))\n",
        "list_of_dfs = timestamps_generator(df)\n",
        "print('before merging dfs: ' ,get_df_size(list_of_dfs))\n",
        "list_of_timestamps = [list(x['id']) for x in list_of_dfs ]\n",
        "list_of_dfs = merging_df(list_of_dfs)  # merging two coonsecuative df to each other and made a new one \n",
        "print('after merging dfs: ',get_df_size(list_of_dfs))"
      ],
      "metadata": {
        "colab": {
          "base_uri": "https://localhost:8080/"
        },
        "id": "5OdUH86lIOoO",
        "outputId": "054adcba-ad65-475f-c650-84dec3622920"
      },
      "execution_count": 133,
      "outputs": [
        {
          "output_type": "stream",
          "name": "stdout",
          "text": [
            "Downloading dataset...\n",
            "Download is done!\n",
            "dataset size after removing non-value cells is (2439, 5)\n",
            "The new size of dataset is (1463, 5) and the columns are ['id' 'title' 'content' 'author' 'publish_time']\n",
            "before merging dfs:  [8, 21, 18, 18, 17, 16, 10, 23, 13, 18, 14, 19, 13, 8, 17, 12, 21, 16, 7, 12, 12, 21, 23, 12, 14, 16, 13, 14, 15, 24, 17, 12, 6, 14, 21, 12, 27, 23, 10, 17, 19, 21, 20, 15, 15, 12, 21, 7, 23, 17, 21, 17, 27, 15, 30, 17, 15, 10, 14, 14, 17, 21, 22, 27, 26, 13, 10, 16, 16, 17, 17, 20, 15, 11, 16, 29, 15, 22, 9, 11, 17, 11, 26, 19, 30, 8]\n",
            "after merging dfs:  [29, 39, 36, 35, 33, 26, 33, 36, 31, 32, 33, 32, 21, 25, 29, 33, 37, 23, 19, 24, 33, 44, 35, 26, 30, 29, 27, 29, 39, 41, 29, 18, 20, 35, 33, 39, 50, 33, 27, 36, 40, 41, 35, 30, 27, 33, 28, 30, 40, 38, 38, 44, 42, 45, 47, 32, 25, 24, 28, 31, 38, 43, 49, 53, 39, 23, 26, 32, 33, 34, 37, 35, 26, 27, 45, 44, 37, 31, 20, 28, 28, 37, 45, 49, 38, 8]\n"
          ]
        }
      ]
    },
    {
      "cell_type": "code",
      "source": [
        "pickle.dump(list_of_dfs, open('drive/MyDrive/temp/data_last_version/list_of_dfs.p', 'wb'))\n",
        "pickle.dump(list_of_timestamps, open('drive/MyDrive/temp/data_last_version/list_of_timestamps.p', 'wb'))\n",
        "pickle.dump(df, open('drive/MyDrive/temp/data_last_version/df.p', 'wb'))\n"
      ],
      "metadata": {
        "id": "9yjvLvSRifJS"
      },
      "execution_count": 141,
      "outputs": []
    },
    {
      "cell_type": "code",
      "source": [
        "# #test the order of timestamps and published time\n",
        "# today_list = list()\n",
        "# for time_id in list_of_timestamps:\n",
        "#   for doc_id in time_id:\n",
        "#     today_set = set()\n",
        "#     temp = df[df['id']== doc_id]['publish_time']\n",
        "#     # print(str(temp).split()[1])\n",
        "#     today_set.add(str(temp).split()[1])\n",
        "#   today_list.append(sorted(today_set))\n",
        "# print(today_list[0:20])\n",
        "# print(today_list[20:40])\n",
        "# print(today_list[40:60])\n",
        "# print(today_list[60:])"
      ],
      "metadata": {
        "id": "GoYsD7eyIUI1"
      },
      "execution_count": 33,
      "outputs": []
    },
    {
      "cell_type": "code",
      "source": [
        "Embed_dict = dict() # {timestamp1 {doc1{(number_of_tokens+1, 768)}, doc2{}}, timestamp2{}}\n",
        "for ts, data_ in zip(range(len(list_of_dfs)), list_of_dfs):\n",
        "   Embed_dict[ts] = bert_embedding_generator(data_)\n"
      ],
      "metadata": {
        "id": "Ig1XABhoInZp"
      },
      "execution_count": null,
      "outputs": []
    },
    {
      "cell_type": "code",
      "source": [
        "final_vector = find_similarity(Embed_dict)"
      ],
      "metadata": {
        "colab": {
          "base_uri": "https://localhost:8080/"
        },
        "id": "HzF03m8pNuQu",
        "outputId": "2a7ce384-2369-4780-b5f9-4a6460aa0133"
      },
      "execution_count": 137,
      "outputs": [
        {
          "output_type": "stream",
          "name": "stderr",
          "text": [
            "100%|██████████| 86/86 [2:12:16<00:00, 92.29s/it]\n"
          ]
        }
      ]
    },
    {
      "cell_type": "code",
      "source": [
        "final_vector = gradient_calculator(final_vector, jump, MAX_FEATURE_SIZE)"
      ],
      "metadata": {
        "colab": {
          "base_uri": "https://localhost:8080/"
        },
        "id": "zjLKprwrtwaQ",
        "outputId": "7b9bee24-59cc-4e16-be0e-4dd403d13136"
      },
      "execution_count": 138,
      "outputs": [
        {
          "output_type": "stream",
          "name": "stderr",
          "text": [
            "100%|██████████| 86/86 [1:04:07<00:00, 44.74s/it]\n"
          ]
        }
      ]
    },
    {
      "cell_type": "code",
      "source": [
        "total_clustering, total_centroid = cluster_maker(final_vector)"
      ],
      "metadata": {
        "colab": {
          "base_uri": "https://localhost:8080/"
        },
        "id": "zoOJZgX5t1yU",
        "outputId": "0bab123b-1f5b-4e9e-f46b-f0304b7ca6f6"
      },
      "execution_count": 139,
      "outputs": [
        {
          "output_type": "stream",
          "name": "stderr",
          "text": [
            "100%|██████████| 86/86 [07:29<00:00,  5.22s/it]\n"
          ]
        }
      ]
    },
    {
      "cell_type": "code",
      "source": [
        "total_docs_clustering = sorted_clustering(final_vector, total_clustering, total_centroid)"
      ],
      "metadata": {
        "colab": {
          "base_uri": "https://localhost:8080/"
        },
        "id": "c2t9kZdq9rSm",
        "outputId": "cea458c5-bb90-4f8e-8eef-d7085951bb9c"
      },
      "execution_count": 38,
      "outputs": [
        {
          "output_type": "stream",
          "name": "stderr",
          "text": [
            "100%|██████████| 86/86 [00:42<00:00,  2.00it/s]\n"
          ]
        }
      ]
    },
    {
      "cell_type": "code",
      "source": [
        "normalized_total_docs_clusters = normalizer(total_docs_clustering)"
      ],
      "metadata": {
        "colab": {
          "base_uri": "https://localhost:8080/"
        },
        "id": "UMDBz20Z9tSx",
        "outputId": "dfa04043-30c6-48d4-87de-3c479fda2802"
      },
      "execution_count": 41,
      "outputs": [
        {
          "output_type": "stream",
          "name": "stderr",
          "text": [
            "100%|██████████| 86/86 [00:03<00:00, 28.51it/s]\n"
          ]
        }
      ]
    },
    {
      "cell_type": "code",
      "source": [
        "total_docs_clusters_wo_stopwords = stopword_remover(normalized_total_docs_clusters)"
      ],
      "metadata": {
        "id": "eHkA4za89vYs"
      },
      "execution_count": 42,
      "outputs": []
    },
    {
      "cell_type": "code",
      "source": [
        "total_doc_embedding = dict()\n",
        "for t_ in Embed_dict.keys():\n",
        "  for doc in Embed_dict[t_].keys():\n",
        "    total_doc_embedding[doc] = Embed_dict[t_][doc]"
      ],
      "metadata": {
        "id": "CexiKgW2MMTF"
      },
      "execution_count": 43,
      "outputs": []
    },
    {
      "cell_type": "code",
      "source": [
        "total_doc_clusters = dict()\n",
        "for ts_ in total_docs_clusters_wo_stopwords.keys():\n",
        "  for doc in total_docs_clusters_wo_stopwords[ts_].keys():\n",
        "    total_doc_clusters[doc] = total_docs_clusters_wo_stopwords[ts_][doc]"
      ],
      "metadata": {
        "id": "O_eXs8ymMu25"
      },
      "execution_count": 44,
      "outputs": []
    },
    {
      "cell_type": "code",
      "source": [
        "total_doc_word_groups = word_group_generator(total_doc_clusters)"
      ],
      "metadata": {
        "id": "ovqMX17oNdgq"
      },
      "execution_count": 45,
      "outputs": []
    },
    {
      "cell_type": "code",
      "source": [
        "total_doc_word_groups = distance_2_freq(total_doc_word_groups)"
      ],
      "metadata": {
        "id": "XxJkU_LoNmFq"
      },
      "execution_count": 46,
      "outputs": []
    },
    {
      "cell_type": "code",
      "source": [
        "total_clustering_w_frequency = similarity_documents(total_doc_word_groups)"
      ],
      "metadata": {
        "colab": {
          "base_uri": "https://localhost:8080/"
        },
        "id": "pJX_F1dyNueb",
        "outputId": "f9a6a0d3-02b4-48ac-b202-d9652335a773"
      },
      "execution_count": 126,
      "outputs": [
        {
          "output_type": "stream",
          "name": "stderr",
          "text": [
            "100%|██████████| 1431/1431 [00:00<00:00, 2162.34it/s]\n"
          ]
        }
      ]
    },
    {
      "cell_type": "code",
      "source": [
        "doc_matrix_weight = weight_matrix_generator(total_clustering_w_frequency)"
      ],
      "metadata": {
        "colab": {
          "base_uri": "https://localhost:8080/"
        },
        "id": "REzW5a8ZNwiA",
        "outputId": "f1517dae-1b8e-4559-f9e0-9374dc78530f"
      },
      "execution_count": 127,
      "outputs": [
        {
          "output_type": "stream",
          "name": "stderr",
          "text": [
            "100%|██████████| 1431/1431 [16:50<00:00,  1.42it/s]\n"
          ]
        },
        {
          "output_type": "stream",
          "name": "stdout",
          "text": [
            "Start normalize the vectors\n"
          ]
        }
      ]
    },
    {
      "cell_type": "code",
      "source": [
        "dict_similarity_bert_cls_docs = bert_classifier_generator(total_doc_embedding)"
      ],
      "metadata": {
        "colab": {
          "base_uri": "https://localhost:8080/"
        },
        "id": "76v5FlSHOEpX",
        "outputId": "dde4ddc3-0e18-4bdc-88b0-1fa22002c523"
      },
      "execution_count": 128,
      "outputs": [
        {
          "output_type": "stream",
          "name": "stderr",
          "text": [
            "100%|██████████| 1431/1431 [06:04<00:00,  3.92it/s]\n"
          ]
        }
      ]
    },
    {
      "cell_type": "code",
      "source": [
        "pickle.dump(dict_similarity_bert_cls_docs, open('drive/MyDrive/temp/data_last_version/dict_similarity_bert_cls_docs.p', 'wb'))\n",
        "pickle.dump(doc_matrix_weight, open('drive/MyDrive/temp/data_last_version/doc_matrix_weight.p', 'wb'))\n",
        "pickle.dump(total_clustering_w_frequency, open('drive/MyDrive/temp/data_last_version/total_clustering_w_frequency.p', 'wb'))\n",
        "pickle.dump(total_doc_embedding , open('drive/MyDrive/temp/data_last_version/total_doc_embedding.p', 'wb'))"
      ],
      "metadata": {
        "id": "CMAa2N03jysX"
      },
      "execution_count": 142,
      "outputs": []
    },
    {
      "cell_type": "code",
      "source": [
        "for doc in dict_similarity_bert_cls_docs.keys():\n",
        "  min_ = min(dict_similarity_bert_cls_docs[doc].values())\n",
        "  max_ = max(dict_similarity_bert_cls_docs[doc].values())\n",
        "  for sec_doc in dict_similarity_bert_cls_docs[doc].keys():\n",
        "    dict_similarity_bert_cls_docs[doc][sec_doc] = (dict_similarity_bert_cls_docs[doc][sec_doc] - min_) / (max_ - min_ + 0.0000001)"
      ],
      "metadata": {
        "id": "-P1jxJDzTEwy"
      },
      "execution_count": 53,
      "outputs": []
    },
    {
      "cell_type": "code",
      "source": [
        "final_weights_proposed_method = dict()\n",
        "for doc in doc_matrix_weight.keys():\n",
        "  temp_dict = dict()\n",
        "  for sec_doc in doc_matrix_weight[doc].keys():\n",
        "    temp_dict[sec_doc] = (doc_matrix_weight[doc][sec_doc] + dict_similarity_bert_cls_docs[doc][sec_doc])/2\n",
        "  final_weights_proposed_method[doc] = temp_dict"
      ],
      "metadata": {
        "id": "6g2vCMjsTHQS"
      },
      "execution_count": 54,
      "outputs": []
    },
    {
      "cell_type": "code",
      "source": [
        "weights = copy.deepcopy(final_weights_proposed_method)"
      ],
      "metadata": {
        "id": "fsLycSdmTJi3"
      },
      "execution_count": 55,
      "outputs": []
    },
    {
      "cell_type": "code",
      "source": [
        "timestamps = copy.deepcopy(list_of_timestamps)"
      ],
      "metadata": {
        "id": "EJ7fUbH4TLDR"
      },
      "execution_count": 56,
      "outputs": []
    },
    {
      "cell_type": "code",
      "source": [
        "def min_from_dict(sample_dict, min_d, max_d):\n",
        "  min_ = 1000000\n",
        "  ind = -1\n",
        "  c = 0\n",
        "  temp_list = sorted(sample_dict.values(), reverse=False)\n",
        "  while (c < len(temp_list)):\n",
        "    if temp_list[c] > min_d and temp_list[c] < max_d:\n",
        "      min_ = temp_list[c]\n",
        "      for ki, val in sample_dict.items():\n",
        "        if val == min_:\n",
        "          return [min_, ki]  # value of minimum, index of minimum\n",
        "    c +=1\n",
        "  return [1, -1]"
      ],
      "metadata": {
        "id": "nIoH562BTPMH"
      },
      "execution_count": 57,
      "outputs": []
    },
    {
      "cell_type": "code",
      "source": [
        "def story_generator(weights, timestamps, start_doc, min_omega, max_omega):\n",
        "  cur_ts = 0\n",
        "  new_story = list()\n",
        "  cur_story = start_doc\n",
        "  \n",
        "\n",
        "  new_story.append(cur_story)\n",
        "  merging_ts = [ x for x in timestamps]\n",
        "  for ts in range(len(timestamps)-1):\n",
        "    merging_ts[ts] = merging_ts[ts] + timestamps[ts+1]\n",
        "\n",
        "  while(cur_ts < len(timestamps) -1 ):\n",
        "    temp_dict = dict()\n",
        "    #GENERATE A DICT OF NEW candidates\n",
        "    for el in merging_ts[cur_ts]:\n",
        "      if el !=cur_story and el not in new_story:\n",
        "        temp_dict[el] = weights[cur_story][el]\n",
        "    res = min_from_dict(temp_dict, min_omega, max_omega)\n",
        "    if res[1] == -1: # the minimum based on the values is not find\n",
        "      cur_ts +=1\n",
        "      break\n",
        "    else:\n",
        "      new_story.append(res[1])\n",
        "      for checker in range(len(timestamps)):\n",
        "        if res[1] in timestamps[checker]:\n",
        "          cur_ts = checker\n",
        "          break\n",
        "\n",
        "      # del weights[cur_story]\n",
        "      cur_story = res[1]\n",
        "    if cur_ts >= len(timestamps)-1:\n",
        "      # stop the function\n",
        "      break\n",
        "  return new_story\n"
      ],
      "metadata": {
        "id": "d-OHAMgMTTWe"
      },
      "execution_count": 58,
      "outputs": []
    },
    {
      "cell_type": "markdown",
      "source": [
        "Proposed Method CoRBS"
      ],
      "metadata": {
        "id": "5ND6R3eQTWI1"
      }
    },
    {
      "cell_type": "code",
      "source": [
        "seed_documents = timestamps[0]\n",
        "omega_max_list = [0.1, 0.15, 0.2, 0.25, 0.3, 0.35, 0.4, 0.45, 0.5, 0.55, 0.6, 0.65, 0.7, 0.75, 0.8, 0.85, 0.9, 0.95]\n",
        "omega_max_list = [0.95]\n",
        "\n",
        "min_omega = 0.001\n",
        "final_results_proposed = dict()\n",
        "for max_omega  in omega_max_list:\n",
        "  list_of_story = list()\n",
        "  \n",
        "  for seed in seed_documents:\n",
        "    list_of_story.append(story_generator(weights, timestamps, seed, min_omega, max_omega))\n",
        "  final_results_proposed[max_omega] = list_of_story\n"
      ],
      "metadata": {
        "id": "FDjkF0-YTaDQ"
      },
      "execution_count": 59,
      "outputs": []
    },
    {
      "cell_type": "code",
      "source": [],
      "metadata": {
        "id": "QF3x3mfKTkQi"
      },
      "execution_count": 145,
      "outputs": []
    },
    {
      "cell_type": "markdown",
      "source": [
        "### BERT embedding story generator"
      ],
      "metadata": {
        "id": "401XaHOdVKdk"
      }
    },
    {
      "cell_type": "code",
      "source": [
        "final_results_bert = dict()\n",
        "for max_omega  in omega_max_list:\n",
        "  list_of_story = list()\n",
        "  \n",
        "  for seed in seed_documents:\n",
        "    list_of_story.append(story_generator(dict_similarity_bert_cls_docs, timestamps, seed, min_omega, max_omega))\n",
        "  final_results_bert[max_omega] = list_of_story"
      ],
      "metadata": {
        "id": "GxO8HpdQVLt6"
      },
      "execution_count": 61,
      "outputs": []
    },
    {
      "cell_type": "code",
      "source": [
        "for om in omega_max_list:\n",
        "  print('------------', om,'-------------------')\n",
        "  temp_st_1 = final_results_proposed[om]\n",
        "  temp_st_2 = final_results_bert[om]\n",
        "  twr = list()\n",
        "  for st_ in temp_st_1:\n",
        "    twr.append(len(st_))\n",
        "  print(sum(twr)/len(twr))\n",
        "  twr = list()\n",
        "  for st_ in temp_st_2:\n",
        "    twr.append(len(st_))\n",
        "  print(sum(twr)/len(twr))\n",
        "\n"
      ],
      "metadata": {
        "colab": {
          "base_uri": "https://localhost:8080/"
        },
        "id": "J4XcQN91VORD",
        "outputId": "290bdaa8-f854-46a1-cefc-2e6a5dbbd476"
      },
      "execution_count": 62,
      "outputs": [
        {
          "output_type": "stream",
          "name": "stdout",
          "text": [
            "------------ 0.95 -------------------\n",
            "166.875\n",
            "168.75\n"
          ]
        }
      ]
    },
    {
      "cell_type": "code",
      "source": [
        "#generate datset from Embed_dict\n",
        "dataset_list = list()\n",
        "for ts_ in Embed_dict.keys():\n",
        "  for doc in Embed_dict[ts_].keys():\n",
        "    dataset_list.append(doc)\n"
      ],
      "metadata": {
        "id": "t0l_F_vXVTyH"
      },
      "execution_count": 63,
      "outputs": []
    },
    {
      "cell_type": "code",
      "source": [
        "def pre_processing(sentence_, stopwords_):\n",
        "  words = word_tokenize(sentence_)\n",
        "  ps = PorterStemmer()\n",
        "  rootWord = list()\n",
        "  for w in words:\n",
        "      if w not in stopwords_:\n",
        "        rootWord.append(ps.stem(w))\n",
        "  return ' '.join( rootWord)"
      ],
      "metadata": {
        "id": "UR3GeWbgVVsN"
      },
      "execution_count": 64,
      "outputs": []
    },
    {
      "cell_type": "code",
      "source": [
        "df['clean_content'] = df['content'].apply(lambda x: pre_processing(x.lower(), stopwords))"
      ],
      "metadata": {
        "id": "6LBXcbCVWA3_"
      },
      "execution_count": 65,
      "outputs": []
    },
    {
      "cell_type": "code",
      "source": [
        "# convert a dataframe to a dictionary of id and content\n",
        "dataset = dict()\n",
        "for index, row in df.iterrows():\n",
        "  if row['id'] in dataset_list:\n",
        "    dataset[row['id']] = row['clean_content']"
      ],
      "metadata": {
        "id": "QkSE9rG1WDSm"
      },
      "execution_count": 66,
      "outputs": []
    },
    {
      "cell_type": "code",
      "source": [
        "def similarity_generator(total_doc_word_embedding):\n",
        "  \"\"\"\n",
        "  doc_matrix is a dictionary of each doc and other doc similarity to this doc based ondoc2vec             doc_embedding ={doc0: {1: int(9*euclidian_distance +1 ), 2:int(9*euclidian_distance +1 )}, doc1}  \n",
        "\n",
        "  \"\"\"\n",
        "  doc_embedding = dict()\n",
        "  for first_doc in tqdm(total_doc_word_embedding.keys()):\n",
        "    temp_dict = dict()\n",
        "    for second_doc in total_doc_word_embedding.keys(): \n",
        "      if first_doc != second_doc:\n",
        "        temp_dict[second_doc] =1.0 - jaccard_similarity(total_doc_word_embedding[first_doc],total_doc_word_embedding[second_doc])\n",
        "    doc_embedding[first_doc] = temp_dict\n",
        "    # print('Document {} is done!'.format(first_doc) )\n",
        "\n",
        "  return doc_embedding"
      ],
      "metadata": {
        "id": "sBUFLq4UWHsn"
      },
      "execution_count": 67,
      "outputs": []
    },
    {
      "cell_type": "code",
      "source": [
        "Embed_dict = dict() # {timestamp1 {doc1{(number_of_tokens+1, 768)}, doc2{}}, timestamp2{}}\n",
        "\n",
        "Embed_dict= similarity_generator(dataset)"
      ],
      "metadata": {
        "colab": {
          "base_uri": "https://localhost:8080/"
        },
        "id": "sKiifMA2WX0K",
        "outputId": "1cc4545f-7f87-475b-c8c6-f523407fb49d"
      },
      "execution_count": 125,
      "outputs": [
        {
          "output_type": "stream",
          "name": "stderr",
          "text": [
            "100%|██████████| 1431/1431 [00:58<00:00, 24.46it/s]\n"
          ]
        }
      ]
    },
    {
      "cell_type": "code",
      "source": [
        "for doc in Embed_dict.keys():\n",
        "  min_ = min(Embed_dict[doc].values())\n",
        "  max_ = max(Embed_dict[doc].values())\n",
        "  for sec_doc in Embed_dict[doc].keys():\n",
        "    Embed_dict[doc][sec_doc] = (Embed_dict[doc][sec_doc] - min_) / (max_ - min_ + 0.0000001)"
      ],
      "metadata": {
        "id": "b4jDgpZ6Wean"
      },
      "execution_count": 69,
      "outputs": []
    },
    {
      "cell_type": "markdown",
      "source": [
        "### Jaccard Index storytelling generator"
      ],
      "metadata": {
        "id": "tSMs3zC1W3pD"
      }
    },
    {
      "cell_type": "code",
      "source": [
        "final_results_ji = dict()\n",
        "for max_omega  in omega_max_list:\n",
        "  list_of_story = list()\n",
        "  \n",
        "  for seed in seed_documents:\n",
        "    list_of_story.append(story_generator(Embed_dict, timestamps, seed, min_omega, max_omega))\n",
        "  final_results_ji[max_omega] = list_of_story"
      ],
      "metadata": {
        "id": "oplZtPCuW5D6"
      },
      "execution_count": 70,
      "outputs": []
    },
    {
      "cell_type": "code",
      "source": [
        "for om in omega_max_list:\n",
        "  print('------------', om,'-------------------')\n",
        "  temp_st_1 = final_results_proposed[om]\n",
        "  temp_st_2 = final_results_bert[om]\n",
        "  temp_st_3 = final_results_ji[om]\n",
        "  twr = list()\n",
        "  for st_ in temp_st_1:\n",
        "    twr.append(len(st_))\n",
        "  print(sum(twr)/len(twr))\n",
        "  twr = list()\n",
        "  for st_ in temp_st_2:\n",
        "    twr.append(len(st_))\n",
        "  print(sum(twr)/len(twr))\n",
        "  for st_ in temp_st_3:\n",
        "    twr.append(len(st_))\n",
        "  print(sum(twr)/len(twr))\n"
      ],
      "metadata": {
        "colab": {
          "base_uri": "https://localhost:8080/"
        },
        "id": "gRS4BVAsW8We",
        "outputId": "7b796a82-4343-4d6d-e2c1-22709c593ad5"
      },
      "execution_count": 71,
      "outputs": [
        {
          "output_type": "stream",
          "name": "stdout",
          "text": [
            "------------ 0.95 -------------------\n",
            "166.875\n",
            "168.75\n",
            "182.25\n"
          ]
        }
      ]
    },
    {
      "cell_type": "markdown",
      "source": [],
      "metadata": {
        "id": "Bd1cCJv2XB1O"
      }
    },
    {
      "cell_type": "markdown",
      "source": [
        "### Doc2vec Algorithm to generate its wn embeddings"
      ],
      "metadata": {
        "id": "9D85HqphXB8X"
      }
    },
    {
      "cell_type": "code",
      "source": [
        "tokenized_doc = []\n",
        "for ind in dataset.keys():\n",
        "  tokenized_doc.append(word_tokenize(pre_processing(dataset[ind], stopwords)))\n",
        "\n",
        "# Convert tokenized document into gensim formated tagged data\n",
        "tagged_data = [TaggedDocument(d, [i]) for i, d in enumerate(tokenized_doc)]\n",
        "# Train the model\n",
        "model = Doc2Vec(vector_size= 500, window = 5, min_count = 2, workers =4, epochs= 100)\n",
        "model.build_vocab(tagged_data)\n",
        "model.train(tagged_data, total_examples=model.corpus_count, epochs=model.epochs)"
      ],
      "metadata": {
        "id": "C9stU9LoXDMh"
      },
      "execution_count": 72,
      "outputs": []
    },
    {
      "cell_type": "code",
      "source": [
        "embedding_dict= dict()\n",
        "for ind in dataset.keys():\n",
        "  embedding_dict[ind] =  model.infer_vector(dataset[ind])"
      ],
      "metadata": {
        "id": "oyp-yxLDXHp6"
      },
      "execution_count": 73,
      "outputs": []
    },
    {
      "cell_type": "code",
      "source": [
        "def similarity_generator_doc2vec(total_doc_word_embedding):\n",
        "  \"\"\"\n",
        "  doc_matrix is a dictionary of each doc and other doc similarity to this doc based ondoc2vec             doc_embedding ={doc0: {1: int(9*euclidian_distance +1 ), 2:int(9*euclidian_distance +1 )}, doc1}  \n",
        "\n",
        "  \"\"\"\n",
        "  doc_embedding = dict()\n",
        "  for first_doc in total_doc_word_embedding.keys():\n",
        "    temp_dict = dict()\n",
        "    for second_doc in total_doc_word_embedding.keys(): \n",
        "      if first_doc != second_doc:\n",
        "        # temp_dict[second_doc] = cosine_similarity([total_doc_word_embedding[first_doc]],[total_doc_word_embedding[second_doc]])[0][0]\n",
        "        temp_dict[second_doc] =1.0 - cosine_similarity([total_doc_word_embedding[first_doc]],[total_doc_word_embedding[second_doc]])[0][0]\n",
        "\n",
        "    doc_embedding[first_doc] = temp_dict\n",
        "    # print('Document {} is done!'.format(first_doc) )\n",
        "\n",
        "  return doc_embedding"
      ],
      "metadata": {
        "id": "GQwvKYD8XPgQ"
      },
      "execution_count": 74,
      "outputs": []
    },
    {
      "cell_type": "code",
      "source": [
        "Embed_dict_doc2vec = dict() # {timestamp1 {doc1{(number_of_tokens+1, 768)}, doc2{}}, timestamp2{}}\n",
        "\n",
        "Embed_dict_doc2vec= similarity_generator_doc2vec(embedding_dict)"
      ],
      "metadata": {
        "id": "hTXRZeqaXSsk"
      },
      "execution_count": 75,
      "outputs": []
    },
    {
      "cell_type": "code",
      "source": [
        "for doc in Embed_dict_doc2vec.keys():\n",
        "  min_ = min(Embed_dict_doc2vec[doc].values())\n",
        "  max_ = max(Embed_dict_doc2vec[doc].values())\n",
        "  for sec_doc in Embed_dict_doc2vec[doc].keys():\n",
        "    Embed_dict_doc2vec[doc][sec_doc] = (Embed_dict_doc2vec[doc][sec_doc] - min_) / (max_ - min_ + 0.0000001)"
      ],
      "metadata": {
        "id": "Y74oYtnTXVOS"
      },
      "execution_count": 76,
      "outputs": []
    },
    {
      "cell_type": "code",
      "source": [
        "max_val = list()\n",
        "for i in Embed_dict_doc2vec.keys():\n",
        "  max_val.append(np.average(list(Embed_dict_doc2vec[i].values())))\n",
        "print(np.average(max_val))\n",
        "  # print(max(Embed_dict_doc2vec[i].values()))"
      ],
      "metadata": {
        "colab": {
          "base_uri": "https://localhost:8080/"
        },
        "id": "-IPO2tqoXXiI",
        "outputId": "9807dc0e-3f85-4cfd-e95b-82e85f77f9ae"
      },
      "execution_count": 77,
      "outputs": [
        {
          "output_type": "stream",
          "name": "stdout",
          "text": [
            "0.28174019571287334\n"
          ]
        }
      ]
    },
    {
      "cell_type": "code",
      "source": [
        "final_results_doc2vec = dict()\n",
        "for max_omega  in omega_max_list:\n",
        "  list_of_story = list()\n",
        "  \n",
        "  for seed in seed_documents:\n",
        "    list_of_story.append(story_generator(Embed_dict_doc2vec, timestamps, seed, min_omega, max_omega/6))\n",
        "  final_results_doc2vec[max_omega] = list_of_story"
      ],
      "metadata": {
        "id": "3bwiIHvaXZ1J"
      },
      "execution_count": 78,
      "outputs": []
    },
    {
      "cell_type": "code",
      "source": [
        "story_len_dict_proposed = list()\n",
        "story_len_dict_doc2vec = list()\n",
        "story_len_dict_ji = list()\n",
        "story_len_dict_bert = list()\n",
        "for om in omega_max_list:\n",
        "  print('------------', om,'-------------------')\n",
        "  temp_st_1 = final_results_proposed[om]\n",
        "  temp_st_2 = final_results_bert[om]\n",
        "  temp_st_3 = final_results_ji[om]\n",
        "  temp_st_4 = final_results_doc2vec[om]\n",
        "  twr = list()\n",
        "  for st_ in temp_st_1:\n",
        "    twr.append(len(st_))\n",
        "  print(sum(twr)/len(twr))\n",
        "  story_len_dict_proposed.append(sum(twr)/len(twr))\n",
        "  twr = list()\n",
        "  for st_ in temp_st_2:\n",
        "    twr.append(len(st_))\n",
        "  print(sum(twr)/len(twr))\n",
        "  story_len_dict_bert.append(sum(twr)/len(twr))\n",
        "  twr = list()\n",
        "  for st_ in temp_st_3:\n",
        "    twr.append(len(st_))\n",
        "  print(sum(twr)/len(twr))\n",
        "  story_len_dict_ji.append(sum(twr)/len(twr))\n",
        "  twr = list()\n",
        "  for st_ in temp_st_4:\n",
        "    twr.append(len(st_))\n",
        "  print(sum(twr)/len(twr))\n",
        "  story_len_dict_doc2vec.append(sum(twr)/len(twr))"
      ],
      "metadata": {
        "colab": {
          "base_uri": "https://localhost:8080/"
        },
        "id": "YAvKHGlQXcx2",
        "outputId": "de92d40b-a41c-481f-8681-60638058b6bd"
      },
      "execution_count": 79,
      "outputs": [
        {
          "output_type": "stream",
          "name": "stdout",
          "text": [
            "------------ 0.95 -------------------\n",
            "166.875\n",
            "168.75\n",
            "195.75\n",
            "126.125\n"
          ]
        }
      ]
    },
    {
      "cell_type": "code",
      "source": [
        "pickle.dump(final_results_proposed, open('drive/MyDrive/temp/data_last_version/final_results_proposed.p', 'wb'))\n",
        "pickle.dump(final_results_bert, open('drive/MyDrive/temp/data_last_version/final_results_bert.p', 'wb'))\n",
        "pickle.dump(final_results_doc2vec, open('drive/MyDrive/temp/data_last_version/final_results_doc2vec.p', 'wb'))\n",
        "pickle.dump(final_results_ji, open('drive/MyDrive/temp/data_last_version/final_results_ji.p', 'wb'))"
      ],
      "metadata": {
        "id": "CtzSTNBMloC1"
      },
      "execution_count": 146,
      "outputs": []
    },
    {
      "cell_type": "code",
      "source": [
        "# importing package\n",
        "import matplotlib.pyplot as plt\n",
        "import numpy as np\n",
        "  \n",
        "# create data\n",
        "\n",
        "\n",
        "y = story_len_dict_bert\n",
        "x = omega_max_list\n",
        "plt.plot(x, y, label = \"BERT method \", linestyle=\"-.\" )\n",
        "\n",
        "y = story_len_dict_doc2vec\n",
        "plt.plot(x, y, label = \"doc2vec method \", linestyle=\"-.\" )\n",
        "\n",
        "y = story_len_dict_ji\n",
        "plt.plot(x, y, label = \"Jaccard Index method \", linestyle=\"-.\" )\n",
        "\n",
        "y = story_len_dict_proposed\n",
        "plt.plot(x, y, label = \"proposed method \", linestyle=\"-.\" )\n",
        "\n",
        "plt.legend()\n",
        "plt.show()"
      ],
      "metadata": {
        "colab": {
          "base_uri": "https://localhost:8080/",
          "height": 265
        },
        "id": "RdQ_ryN5bX5g",
        "outputId": "20c9ea01-283d-4a2b-929c-036433cb6c7b"
      },
      "execution_count": 80,
      "outputs": [
        {
          "output_type": "display_data",
          "data": {
            "text/plain": [
              "<Figure size 432x288 with 1 Axes>"
            ],
            "image/png": "[encoded data removed]"
          },
          "metadata": {
            "needs_background": "light"
          }
        }
      ]
    },
    {
      "cell_type": "code",
      "source": [
        "#generate embedding for evaluation metrics\n",
        "total_doc_embedding_cls = dict()\n",
        "for doc in total_doc_embedding.keys():\n",
        "  total_doc_embedding_cls[doc] = total_doc_embedding[doc]['cls']"
      ],
      "metadata": {
        "id": "QEVMhh13aU1B"
      },
      "execution_count": 81,
      "outputs": []
    },
    {
      "cell_type": "markdown",
      "source": [
        "Experimental Results"
      ],
      "metadata": {
        "id": "H0up6iOialqh"
      }
    },
    {
      "cell_type": "code",
      "source": [
        "full_story_NYT_proposed_embedding = dict()\n",
        "for omega in final_results_proposed.keys():\n",
        "  temp_story_list = list()\n",
        "  for story in final_results_proposed[omega]:\n",
        "    temp_list = list()\n",
        "    for doc in story:\n",
        "      temp_list.append(total_doc_embedding_cls[doc])\n",
        "    temp_story_list.append(temp_list)\n",
        "  full_story_NYT_proposed_embedding[omega] = temp_story_list"
      ],
      "metadata": {
        "id": "IB2jTLUuape1"
      },
      "execution_count": 82,
      "outputs": []
    },
    {
      "cell_type": "code",
      "source": [
        "full_story_NYT_bert_embedding = dict()\n",
        "for omega in final_results_bert.keys():\n",
        "  temp_story_list = list()\n",
        "  for story in final_results_bert[omega]:\n",
        "    temp_list = list()\n",
        "    for doc in story:\n",
        "      temp_list.append(total_doc_embedding_cls[doc])\n",
        "    temp_story_list.append(temp_list)\n",
        "  full_story_NYT_bert_embedding[omega] = temp_story_list"
      ],
      "metadata": {
        "id": "46oLrl4NarLN"
      },
      "execution_count": 83,
      "outputs": []
    },
    {
      "cell_type": "code",
      "source": [
        "full_story_NYT_ji_embedding = dict()\n",
        "for omega in final_results_ji.keys():\n",
        "  temp_story_list = list()\n",
        "  for story in final_results_ji[omega]:\n",
        "    temp_list = list()\n",
        "    for doc in story:\n",
        "      temp_list.append(total_doc_embedding_cls[doc])\n",
        "    temp_story_list.append(temp_list)\n",
        "  full_story_NYT_ji_embedding[omega] = temp_story_list"
      ],
      "metadata": {
        "id": "n_iFot2MausM"
      },
      "execution_count": 84,
      "outputs": []
    },
    {
      "cell_type": "code",
      "source": [
        "full_story_NYT_doc2vec_embedding = dict()\n",
        "for omega in final_results_doc2vec.keys():\n",
        "  temp_story_list = list()\n",
        "  for story in final_results_doc2vec[omega]:\n",
        "    temp_list = list()\n",
        "    for doc in story:\n",
        "      temp_list.append(total_doc_embedding_cls[doc])\n",
        "    temp_story_list.append(temp_list)\n",
        "  full_story_NYT_doc2vec_embedding[omega] = temp_story_list"
      ],
      "metadata": {
        "id": "RvlB1SR0awdW"
      },
      "execution_count": 85,
      "outputs": []
    },
    {
      "cell_type": "code",
      "source": [
        "pickle.dump(full_story_NYT_proposed_embedding, open('drive/MyDrive/temp/data_last_version/full_story_NYT_proposed_embedding.p', 'wb'))\n",
        "pickle.dump(full_story_NYT_bert_embedding, open('drive/MyDrive/temp/data_last_version/full_story_NYT_bert_embedding.p', 'wb'))\n",
        "pickle.dump(full_story_NYT_ji_embedding, open('drive/MyDrive/temp/data_last_version/full_story_NYT_ji_embedding.p', 'wb'))\n",
        "pickle.dump(full_story_NYT_doc2vec_embedding, open('drive/MyDrive/temp/data_last_version/full_story_NYT_doc2vec_embedding.p', 'wb'))"
      ],
      "metadata": {
        "id": "CXhORnnql-3w"
      },
      "execution_count": 147,
      "outputs": []
    },
    {
      "cell_type": "code",
      "source": [
        "def story_stretch(story_list, max_omega):\n",
        "  stories = story_list[max_omega]\n",
        "  stories_length = list()\n",
        "  for story in stories:\n",
        "    stories_length.append(len(story))\n",
        "  ave = np.average(stories_length)\n",
        "  return 1- np.sqrt(np.average([pow(l_i - ave,2) for l_i in stories_length])) / len(stories)"
      ],
      "metadata": {
        "id": "XQ2osFZAazAW"
      },
      "execution_count": 86,
      "outputs": []
    },
    {
      "cell_type": "code",
      "source": [
        "thre = 0.95\n",
        "print('StoryStretch Metric')\n",
        "print(story_stretch(final_results_proposed, thre))\n",
        "print(story_stretch(final_results_bert, thre))\n",
        "print(story_stretch(final_results_ji, thre))\n",
        "print(story_stretch(final_results_doc2vec, thre))\n",
        "# print(story_stretch(final_results_doc2vec_n, thre))"
      ],
      "metadata": {
        "colab": {
          "base_uri": "https://localhost:8080/"
        },
        "id": "t2IDYazGa0_P",
        "outputId": "4694c0fd-0eff-4f83-dd3c-fb8d36d8fed6"
      },
      "execution_count": 87,
      "outputs": [
        {
          "output_type": "stream",
          "name": "stdout",
          "text": [
            "StoryStretch Metric\n",
            "0.8841218986391303\n",
            "0.6159935710173592\n",
            "0.8260073636615618\n",
            "-4.878136629440915\n"
          ]
        }
      ]
    },
    {
      "cell_type": "code",
      "source": [
        "omega_list = final_results_proposed.keys()\n",
        "story_stretch_proposed = [story_stretch(final_results_proposed, i) for i in omega_list]\n",
        "story_stretch_bert = [story_stretch(final_results_bert, i) for i in omega_list]\n",
        "story_stretch_ji = [story_stretch(final_results_ji, i) for i in omega_list]\n",
        "story_stretch_doc2vec = [story_stretch(final_results_doc2vec, i) for i in omega_list]\n",
        "\n"
      ],
      "metadata": {
        "id": "sJ7JD4vWa2yA"
      },
      "execution_count": 88,
      "outputs": []
    },
    {
      "cell_type": "code",
      "source": [
        "\n",
        "\n",
        "x = list(omega_list)[0:-1]\n",
        "plt.figure(figsize=(8,5))\n",
        "\n",
        "y = story_stretch_proposed[0:-1]\n",
        "plt.plot(x, y, label = \"Our CoRBS method \", linestyle=\"-.\" )\n",
        "\n",
        "y = story_stretch_bert[0:-1]\n",
        "plt.plot(x, y, label = \"BERT method \", linestyle=\"-.\" )\n",
        "\n",
        "\n",
        "y = story_stretch_doc2vec[0:-1]\n",
        "plt.plot(x, y, label = \"doc2vec method \", linestyle=\"-.\" )\n",
        "\n",
        "y = story_stretch_ji[0:-1]\n",
        "plt.plot(x, y, label = \"Entity-set based method\", linestyle=\"-.\" )\n",
        "\n",
        "# y = story_stretch_doc2vec_n[0:-2]\n",
        "# plt.plot(x, y, label = \"doc2vec method \", linestyle=\"-.\" )\n",
        "\n",
        "plt.xlabel('Maximum Cosine similarity between pair documents')\n",
        "plt.ylabel('StoryStretch')\n",
        "\n",
        "plt.legend()\n",
        "plt.show()"
      ],
      "metadata": {
        "colab": {
          "base_uri": "https://localhost:8080/",
          "height": 334
        },
        "id": "C4U4r9Eva542",
        "outputId": "498972ac-4f3c-4163-e93a-2cbd856a2830"
      },
      "execution_count": 89,
      "outputs": [
        {
          "output_type": "display_data",
          "data": {
            "text/plain": [
              "<Figure size 576x360 with 1 Axes>"
            ],
            "image/png": "[encoded data removed]"
          },
          "metadata": {
            "needs_background": "light"
          }
        }
      ]
    },
    {
      "cell_type": "code",
      "source": [
        "def tempo_cover(story_list, timestamp_list, omega):\n",
        "  stories_list = story_list[omega]\n",
        "  res = list()\n",
        "  for story in stories_list:\n",
        "    ts_counter = set()\n",
        "    for t_s in range(len(timestamp_list)):\n",
        "      for doc in story:\n",
        "        if doc in timestamp_list[t_s]:\n",
        "          ts_counter.add(t_s)\n",
        "    res.append(len(ts_counter)/len(story))\n",
        "  return np.average(res)\n",
        "\n",
        "        \n",
        "\n"
      ],
      "metadata": {
        "id": "OIZdXvMJbZhW"
      },
      "execution_count": 90,
      "outputs": []
    },
    {
      "cell_type": "code",
      "source": [
        "print('TempoCover Metric')\n",
        "print(tempo_cover(final_results_proposed, list_of_timestamps, thre))\n",
        "print(tempo_cover(final_results_bert, list_of_timestamps, thre))\n",
        "print(tempo_cover(final_results_ji, list_of_timestamps, thre))\n",
        "print(tempo_cover(final_results_doc2vec, list_of_timestamps, thre))\n",
        "# print(tempo_cover(final_results_doc2vec_n, list_of_timestamps, thre))"
      ],
      "metadata": {
        "colab": {
          "base_uri": "https://localhost:8080/"
        },
        "id": "DF3qKdbfcPDX",
        "outputId": "d39b7dc7-9435-41a6-c3a0-cb2d938991db"
      },
      "execution_count": 91,
      "outputs": [
        {
          "output_type": "stream",
          "name": "stdout",
          "text": [
            "TempoCover Metric\n",
            "0.5153716877776289\n",
            "0.5097972909087782\n",
            "0.43935807643045444\n",
            "0.6483872369233519\n"
          ]
        }
      ]
    },
    {
      "cell_type": "code",
      "source": [
        "omega_list = final_results_proposed.keys()\n",
        "tempo_cover_proposed = [tempo_cover(final_results_proposed, list_of_timestamps, i) for i in omega_list]\n",
        "tempo_cover_bert = [tempo_cover(final_results_bert, list_of_timestamps, i) for i in omega_list]\n",
        "tempo_cover_ji = [tempo_cover(final_results_ji, list_of_timestamps, i) for i in omega_list]\n",
        "tempo_cover_doc2vec = [tempo_cover(final_results_doc2vec, list_of_timestamps, i) for i in omega_list]\n"
      ],
      "metadata": {
        "id": "kahmeEDocSrG"
      },
      "execution_count": 92,
      "outputs": []
    },
    {
      "cell_type": "code",
      "source": [
        "x = list(omega_list)[0:-2]\n",
        "plt.figure(figsize=(8,5))\n",
        "\n",
        "y = tempo_cover_proposed[0:-2]\n",
        "plt.plot(x, y, label = \"Our CoRBS method\", linestyle=\"-.\" )\n",
        "\n",
        "y = tempo_cover_bert[0:-2]\n",
        "plt.plot(x, y, label = \"BERT method \", linestyle=\"-.\" )\n",
        "\n",
        "\n",
        "y = tempo_cover_doc2vec[0:-2]\n",
        "plt.plot(x, y, label = \"doc2vec method \", linestyle=\"-.\" )\n",
        "\n",
        "y = tempo_cover_ji[0:-2]\n",
        "plt.plot(x, y, label = \"Entity-set based method\", linestyle=\"-.\" )\n",
        "\n",
        "# y = tempo_cover_doc2vec_n[0:-2]\n",
        "# plt.plot(x, y, label = \"doc2vec method \", linestyle=\"-.\" )\n",
        "\n",
        "plt.xlabel('Maximum Cosine similarity between pair documents')\n",
        "plt.ylabel('Temporal coverage coefficient')\n",
        "\n",
        "plt.legend()\n",
        "plt.show()"
      ],
      "metadata": {
        "colab": {
          "base_uri": "https://localhost:8080/",
          "height": 334
        },
        "id": "OTOhDWi1cWWk",
        "outputId": "992c395f-879d-4d9e-f86e-f7c6413b803b"
      },
      "execution_count": 93,
      "outputs": [
        {
          "output_type": "display_data",
          "data": {
            "text/plain": [
              "<Figure size 576x360 with 1 Axes>"
            ],
            "image/png": "[encoded data removed]"
          },
          "metadata": {
            "needs_background": "light"
          }
        }
      ]
    },
    {
      "cell_type": "code",
      "source": [
        "# #generate embedding for evaluation metrics\n",
        "\n",
        "\n",
        "# total_doc_embedding = dict()\n",
        "# for t_ in Embed_dict.keys():\n",
        "#   for doc in Embed_dict[t_].keys():\n",
        "#     total_doc_embedding[doc] = Embed_dict[t_][doc]\n",
        "\n",
        "\n",
        "# total_doc_embedding_cls = dict()\n",
        "# for doc in total_doc_embedding.keys():\n",
        "#   total_doc_embedding_cls[doc] = total_doc_embedding[doc]['cls']\n",
        "\n",
        "\n",
        "# full_story_NYT_proposed_embedding = dict()\n",
        "# for omega in final_results_proposed.keys():\n",
        "#   temp_story_list = list()\n",
        "#   for story in final_results_proposed[omega]:\n",
        "#     temp_list = list()\n",
        "#     for doc in story:\n",
        "#       temp_list.append(total_doc_embedding_cls[doc])\n",
        "#     temp_story_list.append(temp_list)\n",
        "#   full_story_NYT_proposed_embedding[omega] = temp_story_list\n",
        "\n",
        "\n",
        "# full_story_NYT_bert_embedding = dict()\n",
        "# for omega in final_results_bert.keys():\n",
        "#   temp_story_list = list()\n",
        "#   for story in final_results_bert[omega]:\n",
        "#     temp_list = list()\n",
        "#     for doc in story:\n",
        "#       temp_list.append(total_doc_embedding_cls[doc])\n",
        "#     temp_story_list.append(temp_list)\n",
        "#   full_story_NYT_bert_embedding[omega] = temp_story_list\n",
        "\n",
        "\n",
        "# full_story_NYT_ji_embedding = dict()\n",
        "# for omega in final_results_ji.keys():\n",
        "#   temp_story_list = list()\n",
        "#   for story in final_results_ji[omega]:\n",
        "#     temp_list = list()\n",
        "#     for doc in story:\n",
        "#       temp_list.append(total_doc_embedding_cls[doc])\n",
        "#     temp_story_list.append(temp_list)\n",
        "#   full_story_NYT_ji_embedding[omega] = temp_story_list\n",
        "\n",
        "\n",
        "# full_story_NYT_doc2vec_embedding = dict()\n",
        "# for omega in final_results_doc2vec.keys():\n",
        "#   temp_story_list = list()\n",
        "#   for story in final_results_doc2vec[omega]:\n",
        "#     temp_list = list()\n",
        "#     for doc in story:\n",
        "#       temp_list.append(total_doc_embedding_cls[doc])\n",
        "#     temp_story_list.append(temp_list)\n",
        "#   full_story_NYT_doc2vec_embedding[omega] = temp_story_list\n",
        "\n",
        "\n",
        "# full_story_NYT_doc2vec_embedding_n = dict()\n",
        "# for omega in final_results_doc2vec_n.keys():\n",
        "#   temp_story_list = list()\n",
        "#   for story in final_results_doc2vec_n[omega]:\n",
        "#     temp_list = list()\n",
        "#     for doc in story:\n",
        "#       temp_list.append(total_doc_embedding_cls[doc])\n",
        "#     temp_story_list.append(temp_list)\n",
        "#   full_story_NYT_doc2vec_embedding_n[omega] = temp_story_list"
      ],
      "metadata": {
        "id": "rH7rVzf3caPA"
      },
      "execution_count": 94,
      "outputs": []
    },
    {
      "cell_type": "code",
      "source": [
        "def disp(d_i, d_j, n, teta, i, j):\n",
        "  a = np.array(d_i)\n",
        "  b = np.array(d_j)\n",
        "  dist = cosine_similarity([a],[b])[0][0]\n",
        "  if dist < teta:\n",
        "    return 1/(n+i-j)\n",
        "  else:\n",
        "    return 0\n",
        "\n",
        "\n",
        "# def disp(d_i, d_j, n, teta, i, j):\n",
        "#   a = np.array(d_i)\n",
        "#   b = np.array(d_j)\n",
        "#   dist = np.sqrt(np.sum(np.square(a-b))) / len(d_i)\n",
        "#   if dist < teta:\n",
        "#     return 1/(n+i-j)\n",
        "#   else:\n",
        "#     return 0\n"
      ],
      "metadata": {
        "id": "9T7vS5vTdGBE"
      },
      "execution_count": 95,
      "outputs": []
    },
    {
      "cell_type": "code",
      "source": [
        "def final_disp(story_, teta):\n",
        "  res = list()\n",
        "  len_story = len(story_)\n",
        "  for i in range(len_story-3):\n",
        "    for j in range(i+2, len_story-1):\n",
        "      res.append(disp(story_[i], story_[j], len_story, teta, i, j))\n",
        "  \n",
        "  return 1.0 - (sum(res)/(len_story-2 + 0.01))"
      ],
      "metadata": {
        "id": "iCPZQsKxdJfx"
      },
      "execution_count": 96,
      "outputs": []
    },
    {
      "cell_type": "code",
      "source": [
        "# disp_porposed = list()\n",
        "# disp_bert = list()\n",
        "# disp_ji = list()\n",
        "# disp_doc2vec = list()\n",
        "# # omega_list = [0.9]\n",
        "# for om in tqdm(omega_list): \n",
        "#   g_value = [final_disp(x, 0.025) for x in full_story_NYT_proposed_embedding[om]]\n",
        "#   disp_porposed.append(sum(g_value)/ len(g_value))\n",
        "#   f_value = [final_disp(x, 0.025) for x in full_story_NYT_bert_embedding[om]]\n",
        "#   disp_bert.append(sum(f_value)/ len(f_value))\n",
        "#   z_value = [final_disp(x, 0.025) for x in full_story_NYT_ji_embedding[om]]\n",
        "#   disp_ji.append(sum(z_value)/  len(z_value))\n",
        "#   a_value = [final_disp(x, 0.025) for x in full_story_NYT_doc2vec_embedding[om]]\n",
        "#   disp_doc2vec.append(sum(a_value)/len(a_value))\n",
        "\n",
        "\n",
        "\n",
        "disp_porposed = list()\n",
        "disp_bert = list()\n",
        "disp_ji = list()\n",
        "disp_doc2vec = list()\n",
        "disp_doc2vec_n = list()\n",
        "teta_list = [0.65, 0.7, 0.75, 0.8, 0.85, 0.9]\n",
        "for te_ta in tqdm(teta_list): \n",
        "  g_value = [final_disp(x, te_ta) for x in full_story_NYT_proposed_embedding[0.95]]\n",
        "  disp_porposed.append(sum(g_value)/ len(g_value))\n",
        "  f_value = [final_disp(x, te_ta) for x in full_story_NYT_bert_embedding[0.95]]\n",
        "  disp_bert.append(sum(f_value)/ len(f_value))\n",
        "  z_value = [final_disp(x, te_ta) for x in full_story_NYT_ji_embedding[0.95]]\n",
        "  disp_ji.append(sum(z_value)/  len(z_value))\n",
        "  a_value = [final_disp(x, te_ta) for x in full_story_NYT_doc2vec_embedding[0.95]]\n",
        "  disp_doc2vec.append(sum(a_value)/len(a_value))\n"
      ],
      "metadata": {
        "colab": {
          "base_uri": "https://localhost:8080/"
        },
        "id": "Q9nuiSNQdMaK",
        "outputId": "377c27c5-3b49-4ae3-d19f-8e0a81c4312c"
      },
      "execution_count": 97,
      "outputs": [
        {
          "output_type": "stream",
          "name": "stderr",
          "text": [
            "100%|██████████| 6/6 [09:28<00:00, 94.77s/it]\n"
          ]
        }
      ]
    },
    {
      "cell_type": "code",
      "source": [
        "i = -1\n",
        "print('Dispersion Coefficient metric')\n",
        "\n",
        "print(disp_porposed[i])\n",
        "print(disp_bert[i])\n",
        "print(disp_ji[i])\n",
        "print(disp_doc2vec[i])\n",
        "# print(disp_doc2vec_n[3])"
      ],
      "metadata": {
        "colab": {
          "base_uri": "https://localhost:8080/"
        },
        "id": "0B0HTgWAiXPH",
        "outputId": "1b264801-8736-4e7b-ad57-b0da758326e5"
      },
      "execution_count": 98,
      "outputs": [
        {
          "output_type": "stream",
          "name": "stdout",
          "text": [
            "Dispersion Coefficient metric\n",
            "0.04181571934411506\n",
            "0.04954983230293328\n",
            "0.03257833638212573\n",
            "0.16219253997767724\n"
          ]
        }
      ]
    },
    {
      "cell_type": "code",
      "source": [
        "\n",
        "\n",
        "x = teta_list\n",
        "plt.figure(figsize=(8,5))\n",
        "\n",
        "\n",
        "\n",
        "\n",
        "\n",
        "# y = disp_doc2vec_n\n",
        "# plt.plot(x, y, label = \"doc2vec method \", linestyle=\"-.\" )\n",
        "\n",
        "\n",
        "\n",
        "y = disp_porposed\n",
        "plt.plot(x, y, label = \"Our CoRBS method\", linestyle=\"-.\" )\n",
        "y = disp_bert\n",
        "plt.plot(x, y, label = \"BERT method \", linestyle=\"-.\" )\n",
        "y = disp_doc2vec\n",
        "plt.plot(x, y, label = \"doc2vec method \", linestyle=\"-.\" )\n",
        "y = disp_ji\n",
        "plt.plot(x, y, label = \"Entity-set based method\", linestyle=\"-.\" )\n",
        "\n",
        "plt.xlabel('Different values of teta')\n",
        "plt.ylabel('Dispersion coefficient')\n",
        "plt.legend()\n",
        "plt.show()"
      ],
      "metadata": {
        "colab": {
          "base_uri": "https://localhost:8080/",
          "height": 334
        },
        "id": "4EfLPebniZDg",
        "outputId": "3b409720-4161-46c4-c4f9-c7353835375b"
      },
      "execution_count": 99,
      "outputs": [
        {
          "output_type": "display_data",
          "data": {
            "text/plain": [
              "<Figure size 576x360 with 1 Axes>"
            ],
            "image/png": "[encoded data removed]"
          },
          "metadata": {
            "needs_background": "light"
          }
        }
      ]
    },
    {
      "cell_type": "code",
      "source": [
        "def story_evaluation_avg (stories_embedding, t_max):\n",
        "  n_stories = len(stories_embedding)\n",
        "  res = list()\n",
        "  for story in stories_embedding:\n",
        "    temp_res = list()\n",
        "    for i in range(len(story)-1):\n",
        "      temp = cosine_similarity([story[i]], [story[i+1]])[0][0]\n",
        "      temp_res.append(  (10*t_max - 10*temp + 1)* np.exp( -10*(t_max - temp))   )\n",
        "    res.append(np.average(temp_res))\n",
        "  return np.average(res)\n",
        "\n",
        "\n",
        "def story_evaluation_vec (stories_embedding, t_max):\n",
        "  n_stories = len(stories_embedding)\n",
        "  res = list()\n",
        "  for story in stories_embedding:\n",
        "    temp_res = list()\n",
        "    for i in range(len(story)-1):\n",
        "      temp = cosine_similarity([story[i]], [story[i+1]])[0][0]\n",
        "      temp_res.append(  (10*t_max - 10*temp + 1)* np.exp( -10*(t_max - temp))   )\n",
        "    res.append(np.average(temp_res))\n",
        "  return res\n"
      ],
      "metadata": {
        "id": "12hd7ew-ia7a"
      },
      "execution_count": 100,
      "outputs": []
    },
    {
      "cell_type": "code",
      "source": [
        "print('Story Evolution Coefficient (SEC)')\n",
        "s_sa = full_story_NYT_proposed_embedding[thre]\n",
        "print(story_evaluation_avg(s_sa, thre))\n",
        "s_sa = full_story_NYT_doc2vec_embedding[thre]\n",
        "print(story_evaluation_avg(s_sa, thre))\n",
        "s_sa = full_story_NYT_ji_embedding[thre]\n",
        "print(story_evaluation_avg(s_sa, thre))\n",
        "s_sa = full_story_NYT_bert_embedding[thre]\n",
        "print(story_evaluation_avg(s_sa, thre))\n",
        "# s_sa = full_story_NYT_doc2vec_embedding_n[0.9]\n",
        "# print(story_evaluation_avg(s_sa, 0.9))"
      ],
      "metadata": {
        "colab": {
          "base_uri": "https://localhost:8080/"
        },
        "id": "xpcK1-OQicWS",
        "outputId": "41f02e57-eef6-4ab3-fc51-d893c3bba2a4"
      },
      "execution_count": 101,
      "outputs": [
        {
          "output_type": "stream",
          "name": "stdout",
          "text": [
            "Story Evolution Coefficient (SEC)\n",
            "0.729490234251877\n",
            "0.5391016588481158\n",
            "0.541815196346136\n",
            "0.8262705377124928\n"
          ]
        }
      ]
    },
    {
      "cell_type": "code",
      "source": [
        "NYT_proposed = (story_evaluation_vec(full_story_NYT_proposed_embedding[thre], thre))\n",
        "NYT_doc2vec = (story_evaluation_vec(full_story_NYT_doc2vec_embedding[thre], thre))\n",
        "# NYT_doc2vec_n = (story_evaluation_vec(full_story_NYT_doc2vec_embedding_n[0.9], 0.9))\n",
        "NYT_ji = (story_evaluation_vec(full_story_NYT_ji_embedding[thre], thre))\n",
        "NYT_bert = (story_evaluation_vec(full_story_NYT_bert_embedding[thre], thre))\n"
      ],
      "metadata": {
        "id": "LFZekDM1ieSu"
      },
      "execution_count": 102,
      "outputs": []
    },
    {
      "cell_type": "code",
      "source": [
        "data = [NYT_proposed, NYT_bert, NYT_doc2vec, NYT_ji]\n",
        " \n",
        "plt.figure(figsize=(8,5))\n",
        " \n",
        "plt.boxplot(data,showfliers=True,labels=['CoRBS','Bert','doc2vec', \"Entity-set based\"])\n",
        "plt.ylabel(\"Story Evolution Coefficient (SEC)\")\n",
        "\n",
        "plt.show()"
      ],
      "metadata": {
        "colab": {
          "base_uri": "https://localhost:8080/",
          "height": 320
        },
        "id": "35N7FQAZigaT",
        "outputId": "810929c5-a575-4f93-8685-2656992b5ee8"
      },
      "execution_count": 151,
      "outputs": [
        {
          "output_type": "display_data",
          "data": {
            "text/plain": [
              "<Figure size 576x360 with 1 Axes>"
            ],
            "image/png": "[encoded data removed]"
          },
          "metadata": {
            "needs_background": "light"
          }
        }
      ]
    },
    {
      "cell_type": "code",
      "source": [
        "import csv\n",
        "#print stories generated by different models\n",
        "dict_story_proposed = dict()\n",
        "\n",
        "c = 0;\n",
        "for stories in final_results_proposed[thre]:\n",
        "  # print('Story #{}'.format(c))\n",
        "  c += 1\n",
        "  temp_doc = list()\n",
        "  for doc in stories:\n",
        "    # print(doc)\n",
        "    temp = df[df['id']== doc]\n",
        "    if list(temp.values):\n",
        "      # print(temp.values)\n",
        "      temp_doc.append(temp.values[0])\n",
        "  dict_story_proposed[c] = temp_doc\n",
        "\n",
        "for ind in range(c):\n",
        "    \n",
        "  with open('drive/MyDrive/temp/data_last_version/csv_stories/proposed_stories'+str(ind)+'.csv', 'w') as f:\n",
        "        \n",
        "      # using csv.writer method from CSV package\n",
        "      write = csv.writer(f)\n",
        "        \n",
        "      write.writerow(list(df.columns))\n",
        "      write.writerows(temp_doc)\n"
      ],
      "metadata": {
        "id": "g6sNVKiokIak"
      },
      "execution_count": 178,
      "outputs": []
    },
    {
      "cell_type": "code",
      "source": [
        "\n",
        "#print stories generated by different models\n",
        "dict_story_bert = dict()\n",
        "\n",
        "c = 0;\n",
        "for stories in final_results_bert[thre]:\n",
        "  # print('Story #{}'.format(c))\n",
        "  c += 1\n",
        "  temp_doc = list()\n",
        "  for doc in stories:\n",
        "    # print(doc)\n",
        "    temp = df[df['id']== doc]\n",
        "    if list(temp.values):\n",
        "      # print(temp.values)\n",
        "      temp_doc.append(temp.values[0])\n",
        "  dict_story_bert[c] = temp_doc\n",
        "\n",
        "for ind in range(c):\n",
        "    \n",
        "  with open('drive/MyDrive/temp/data_last_version/csv_stories/bert_stories'+str(ind)+'.csv', 'w') as f:\n",
        "        \n",
        "      # using csv.writer method from CSV package\n",
        "      write = csv.writer(f)\n",
        "        \n",
        "      write.writerow(list(df.columns))\n",
        "      write.writerows(temp_doc)"
      ],
      "metadata": {
        "id": "KpQx3VV3nJ8H"
      },
      "execution_count": 179,
      "outputs": []
    },
    {
      "cell_type": "code",
      "source": [
        "#print stories generated by different models\n",
        "dict_story_doc2vec = dict()\n",
        "\n",
        "c = 0;\n",
        "for stories in final_results_doc2vec[thre]:\n",
        "  # print('Story #{}'.format(c))\n",
        "  c += 1\n",
        "  temp_doc = list()\n",
        "  for doc in stories:\n",
        "    # print(doc)\n",
        "    temp = df[df['id']== doc]\n",
        "    if list(temp.values):\n",
        "      # print(temp.values)\n",
        "      temp_doc.append(temp.values[0])\n",
        "  dict_story_doc2vec[c] = temp_doc\n",
        "\n",
        "for ind in range(c):\n",
        "    \n",
        "  with open('drive/MyDrive/temp/data_last_version/csv_stories/doc2vec_stories'+str(ind)+'.csv', 'w') as f:\n",
        "        \n",
        "      # using csv.writer method from CSV package\n",
        "      write = csv.writer(f)\n",
        "        \n",
        "      write.writerow(list(df.columns))\n",
        "      write.writerows(temp_doc)"
      ],
      "metadata": {
        "id": "VOL2nvXRoK9-"
      },
      "execution_count": 180,
      "outputs": []
    },
    {
      "cell_type": "code",
      "source": [
        "#print stories generated by different models\n",
        "dict_story_ji = dict()\n",
        "\n",
        "c = 0;\n",
        "for stories in final_results_ji[thre]:\n",
        "  # print('Story #{}'.format(c))\n",
        "  c += 1\n",
        "  temp_doc = list()\n",
        "  for doc in stories:\n",
        "    # print(doc)\n",
        "    temp = df[df['id']== doc]\n",
        "    if list(temp.values):\n",
        "      # print(temp.values)\n",
        "      temp_doc.append(temp.values[0])\n",
        "  dict_story_ji[c] = temp_doc\n",
        "\n",
        "for ind in range(c):\n",
        "    \n",
        "  with open('drive/MyDrive/temp/data_last_version/csv_stories/ji_stories'+str(ind)+'.csv', 'w') as f:\n",
        "        \n",
        "      # using csv.writer method from CSV package\n",
        "      write = csv.writer(f)\n",
        "        \n",
        "      write.writerow(list(df.columns))\n",
        "      write.writerows(temp_doc)"
      ],
      "metadata": {
        "id": "3eJ2APMtmbPu"
      },
      "execution_count": 181,
      "outputs": []
    },
    {
      "cell_type": "code",
      "source": [],
      "metadata": {
        "id": "KyMXxiSk0lxM"
      },
      "execution_count": null,
      "outputs": []
    }
  ]
}
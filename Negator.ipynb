{
  "nbformat": 4,
  "nbformat_minor": 0,
  "metadata": {
    "colab": {
      "name": "Negator.ipynb",
      "provenance": [],
      "collapsed_sections": [],
      "authorship_tag": "ABX9TyPZMAsYRFY8hNA1fjNCZ4XP",
      "include_colab_link": true
    },
    "kernelspec": {
      "name": "python3",
      "display_name": "Python 3"
    },
    "language_info": {
      "name": "python"
    }
  },
  "cells": [
    {
      "cell_type": "markdown",
      "metadata": {
        "id": "view-in-github",
        "colab_type": "text"
      },
      "source": [
        "<a href=\"https://colab.research.google.com/github/AlirezaPNouri/Papers/blob/main/Negator.ipynb\" target=\"_parent\"><img src=\"https://colab.research.google.com/assets/colab-badge.svg\" alt=\"Open In Colab\"/></a>"
      ]
    },
    {
      "cell_type": "code",
      "source": [
        "! pip install contractions"
      ],
      "metadata": {
        "colab": {
          "base_uri": "https://localhost:8080/"
        },
        "id": "7ItiOl0-YDw6",
        "outputId": "c1670341-7f93-4f10-e466-76b469557d6e"
      },
      "execution_count": 138,
      "outputs": [
        {
          "output_type": "stream",
          "name": "stdout",
          "text": [
            "Looking in indexes: https://pypi.org/simple, https://us-python.pkg.dev/colab-wheels/public/simple/\n",
            "Collecting contractions\n",
            "  Downloading contractions-0.1.72-py2.py3-none-any.whl (8.3 kB)\n",
            "Collecting textsearch>=0.0.21\n",
            "  Downloading textsearch-0.0.21-py2.py3-none-any.whl (7.5 kB)\n",
            "Collecting pyahocorasick\n",
            "  Downloading pyahocorasick-1.4.4-cp37-cp37m-manylinux_2_17_x86_64.manylinux2014_x86_64.whl (106 kB)\n",
            "\u001b[K     |████████████████████████████████| 106 kB 5.2 MB/s \n",
            "\u001b[?25hCollecting anyascii\n",
            "  Downloading anyascii-0.3.1-py3-none-any.whl (287 kB)\n",
            "\u001b[K     |████████████████████████████████| 287 kB 36.7 MB/s \n",
            "\u001b[?25hInstalling collected packages: pyahocorasick, anyascii, textsearch, contractions\n",
            "Successfully installed anyascii-0.3.1 contractions-0.1.72 pyahocorasick-1.4.4 textsearch-0.0.21\n"
          ]
        }
      ]
    },
    {
      "cell_type": "code",
      "source": [
        "import re\n",
        "import contractions\n",
        "delimiters = ['.',',','?',':','!',';','\\n']"
      ],
      "metadata": {
        "id": "g5hfVN7gsiuk"
      },
      "execution_count": 139,
      "outputs": []
    },
    {
      "cell_type": "code",
      "source": [
        "def splitter(sen_ , delimiters_=['.',',','?',':','!',';','\\n']):\n",
        "  splitted_list = list()\n",
        "  temp = \"\"\n",
        "  for character in sen_:\n",
        "    if character in delimiters_:\n",
        "      temp += character\n",
        "      splitted_list.append(contractions.fix(temp.strip()))\n",
        "      temp = \"\"\n",
        "    else:\n",
        "      temp +=character\n",
        "  return splitted_list"
      ],
      "metadata": {
        "id": "7AygY3d2uiPZ"
      },
      "execution_count": 182,
      "outputs": []
    },
    {
      "cell_type": "code",
      "execution_count": 205,
      "metadata": {
        "id": "snO0BsxesEeR"
      },
      "outputs": [],
      "source": [
        "def negator(sen_, lg_):\n",
        "  sen_list = []\n",
        "  result = []\n",
        "  for txt in splitter(sen_):\n",
        "    sen_list.append(lg_(txt.lower()))\n",
        "    new_sentence = ''\n",
        "    for token in lg_(txt):\n",
        "      tg_explain = spacy.explain(token.tag_)\n",
        "      tg_pos = token.pos_\n",
        "      if tg_pos == 'AUX':\n",
        "        # print('{} is a aux'.format(token.text))\n",
        "        # print(txt[token.idx+len(token.text): token.idx+len(token.text)+3], token.idx)\n",
        "        if txt[token.idx+len(token.text): token.idx+len(token.text)+3] == 'not':\n",
        "          new_sentence += token.text + \" \"\n",
        "          # print('it is already negated')\n",
        "        else:\n",
        "          new_sentence += token.text + \" \"\n",
        "          new_sentence += 'not '\n",
        "      elif tg_pos == 'VERB':\n",
        "        # print('{} is a verb'.format(token.text))\n",
        "        if tg_explain[1] == 'base form':\n",
        "          pass\n",
        "        elif tg_explain[1] == '3rd person singular present':\n",
        "          # new_sentence += \"does not \"\n",
        "          pass\n",
        "        elif tg_explain[1] == 'base form':\n",
        "          pass\n",
        "        new_sentence += token.text + \" \"\n",
        "      elif tg_pos == 'PRON':\n",
        "        # print('{} is a pronoun'.format(token.text))\n",
        "        new_sentence += token.text + \" \"\n",
        "      elif tg_pos == 'ADV':\n",
        "        # print('{} is an adverb'.format(token.text))\n",
        "        new_sentence += token.text + \" \"\n",
        "      elif tg_pos == 'ADJ':\n",
        "        # print('{} is an adjective'.format(token.text))\n",
        "        new_sentence += token.text + \" \"\n",
        "      else:\n",
        "        new_sentence += token.text + \" \"\n",
        "    print(new_sentence[:-1])\n",
        "    result.append(new_sentence[:-1])\n",
        "  return result\n",
        "\n",
        "\n",
        "\n",
        "\n"
      ]
    },
    {
      "cell_type": "code",
      "source": [
        "import spacy\n",
        "sp = spacy.load('en_core_web_sm')\n"
      ],
      "metadata": {
        "id": "yFiaWKVQuKsm"
      },
      "execution_count": 144,
      "outputs": []
    },
    {
      "cell_type": "code",
      "source": [
        "text1 = \"hello I can't help you. she is so beautiful. I may not like her too much. she doesn't like you. she loves me.\"\n",
        "res=negator(text1, sp)\n",
        "# print(splitter(\"hello I can't help you. she is so beautiful. I like her too much.\"))"
      ],
      "metadata": {
        "colab": {
          "base_uri": "https://localhost:8080/"
        },
        "id": "J_GcT8ga8b0z",
        "outputId": "32580b0a-0507-4a14-a2b2-391dbdf72595"
      },
      "execution_count": 206,
      "outputs": [
        {
          "output_type": "stream",
          "name": "stdout",
          "text": [
            "hello I can not help you .\n",
            "she is not so beautiful .\n",
            "I may not not like her too much .\n",
            "she does not not like you .\n",
            "she loves me .\n"
          ]
        }
      ]
    },
    {
      "cell_type": "code",
      "source": [
        "spacy_sen = sp(contractions.fix(\"hello I can't help you. she is so beautiful. I may not like her too much. she doesn't like you. she loves me.\"))\n",
        "print(spacy_sen.text)\n",
        "print(spacy_sen[3].pos_)\n",
        "print(spacy_sen[3].tag_)\n",
        "print(spacy.explain(spacy_sen[3].tag_))\n",
        "for word in spacy_sen:\n",
        "    print(f'{word.text:{12}} {word.pos_:{10}} {word.tag_:{8}} {spacy.explain(word.tag_)}')\n",
        "    print(word.dep_)\n"
      ],
      "metadata": {
        "colab": {
          "base_uri": "https://localhost:8080/"
        },
        "id": "iIK0c0UK8rNM",
        "outputId": "5ab8a74a-086d-47f9-891b-8c0f9bda69d6"
      },
      "execution_count": 193,
      "outputs": [
        {
          "output_type": "stream",
          "name": "stdout",
          "text": [
            "hello I cannot help you. she is so beautiful. I may not like her too much. she does not like you. she loves me.\n",
            "PART\n",
            "RB\n",
            "adverb\n",
            "hello        INTJ       UH       interjection\n",
            "intj\n",
            "I            PRON       PRP      pronoun, personal\n",
            "nsubj\n",
            "can          AUX        MD       verb, modal auxiliary\n",
            "aux\n",
            "not          PART       RB       adverb\n",
            "neg\n",
            "help         VERB       VB       verb, base form\n",
            "ROOT\n",
            "you          PRON       PRP      pronoun, personal\n",
            "dobj\n",
            ".            PUNCT      .        punctuation mark, sentence closer\n",
            "punct\n",
            "she          PRON       PRP      pronoun, personal\n",
            "nsubj\n",
            "is           AUX        VBZ      verb, 3rd person singular present\n",
            "ROOT\n",
            "so           ADV        RB       adverb\n",
            "advmod\n",
            "beautiful    ADJ        JJ       adjective (English), other noun-modifier (Chinese)\n",
            "acomp\n",
            ".            PUNCT      .        punctuation mark, sentence closer\n",
            "punct\n",
            "I            PRON       PRP      pronoun, personal\n",
            "nsubj\n",
            "may          AUX        MD       verb, modal auxiliary\n",
            "aux\n",
            "not          PART       RB       adverb\n",
            "neg\n",
            "like         VERB       VB       verb, base form\n",
            "ROOT\n",
            "her          PRON       PRP      pronoun, personal\n",
            "dobj\n",
            "too          ADV        RB       adverb\n",
            "advmod\n",
            "much         ADJ        JJ       adjective (English), other noun-modifier (Chinese)\n",
            "advmod\n",
            ".            PUNCT      .        punctuation mark, sentence closer\n",
            "punct\n",
            "she          PRON       PRP      pronoun, personal\n",
            "nsubj\n",
            "does         AUX        VBZ      verb, 3rd person singular present\n",
            "aux\n",
            "not          PART       RB       adverb\n",
            "neg\n",
            "like         VERB       VB       verb, base form\n",
            "ROOT\n",
            "you          PRON       PRP      pronoun, personal\n",
            "dobj\n",
            ".            PUNCT      .        punctuation mark, sentence closer\n",
            "punct\n",
            "she          PRON       PRP      pronoun, personal\n",
            "nsubj\n",
            "loves        VERB       VBZ      verb, 3rd person singular present\n",
            "ROOT\n",
            "me           PRON       PRP      pronoun, personal\n",
            "dobj\n",
            ".            PUNCT      .        punctuation mark, sentence closer\n",
            "punct\n"
          ]
        }
      ]
    }
  ]
}